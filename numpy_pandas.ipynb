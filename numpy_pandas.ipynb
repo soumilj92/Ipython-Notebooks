{
 "metadata": {
  "name": "",
  "signature": "sha256:b6c10411859c3e12c5047466aee0cabe74a214aaa91b75c2c285512fa05a8604"
 },
 "nbformat": 3,
 "nbformat_minor": 0,
 "worksheets": [
  {
   "cells": [
    {
     "cell_type": "code",
     "collapsed": false,
     "input": [
      "import pandas as pd\n",
      "import numpy as np\n",
      "import math\n",
      "import matplotlib.pyplot as plt\n",
      "import matplotlib as mat\n",
      "%matplotlib inline"
     ],
     "language": "python",
     "metadata": {},
     "outputs": [],
     "prompt_number": 1
    },
    {
     "cell_type": "code",
     "collapsed": false,
     "input": [
      "print pd.__version__\n",
      "print np.__version__"
     ],
     "language": "python",
     "metadata": {},
     "outputs": [
      {
       "output_type": "stream",
       "stream": "stdout",
       "text": [
        "0.14.1\n",
        "1.9.0\n"
       ]
      }
     ],
     "prompt_number": 2
    },
    {
     "cell_type": "heading",
     "level": 1,
     "metadata": {},
     "source": [
      "NUMPY"
     ]
    },
    {
     "cell_type": "code",
     "collapsed": false,
     "input": [
      "from numpy import array"
     ],
     "language": "python",
     "metadata": {},
     "outputs": [],
     "prompt_number": 3
    },
    {
     "cell_type": "code",
     "collapsed": false,
     "input": [
      "a=array([1,2,3])"
     ],
     "language": "python",
     "metadata": {},
     "outputs": [],
     "prompt_number": 4
    },
    {
     "cell_type": "heading",
     "level": 5,
     "metadata": {},
     "source": [
      "Array is like a conversion version and is converting a list into an actual array"
     ]
    },
    {
     "cell_type": "heading",
     "level": 5,
     "metadata": {},
     "source": [
      "Could be a tuple also "
     ]
    },
    {
     "cell_type": "code",
     "collapsed": false,
     "input": [
      "t1=(1,2,3)\n",
      "a2=array(t1)"
     ],
     "language": "python",
     "metadata": {},
     "outputs": [],
     "prompt_number": 5
    },
    {
     "cell_type": "code",
     "collapsed": false,
     "input": [
      "a2"
     ],
     "language": "python",
     "metadata": {},
     "outputs": [
      {
       "metadata": {},
       "output_type": "pyout",
       "prompt_number": 6,
       "text": [
        "array([1, 2, 3])"
       ]
      }
     ],
     "prompt_number": 6
    },
    {
     "cell_type": "code",
     "collapsed": false,
     "input": [
      "l1=[1,2,3,4,5]"
     ],
     "language": "python",
     "metadata": {},
     "outputs": [],
     "prompt_number": 7
    },
    {
     "cell_type": "code",
     "collapsed": false,
     "input": [
      "l1+l1"
     ],
     "language": "python",
     "metadata": {},
     "outputs": [
      {
       "metadata": {},
       "output_type": "pyout",
       "prompt_number": 8,
       "text": [
        "[1, 2, 3, 4, 5, 1, 2, 3, 4, 5]"
       ]
      }
     ],
     "prompt_number": 8
    },
    {
     "cell_type": "heading",
     "level": 5,
     "metadata": {},
     "source": [
      "Concatenation happens in case of a list "
     ]
    },
    {
     "cell_type": "heading",
     "level": 5,
     "metadata": {},
     "source": [
      "Default behaviour of array is adding element by element"
     ]
    },
    {
     "cell_type": "code",
     "collapsed": false,
     "input": [
      "a+a2"
     ],
     "language": "python",
     "metadata": {},
     "outputs": [
      {
       "metadata": {},
       "output_type": "pyout",
       "prompt_number": 9,
       "text": [
        "array([2, 4, 6])"
       ]
      }
     ],
     "prompt_number": 9
    },
    {
     "cell_type": "heading",
     "level": 5,
     "metadata": {},
     "source": [
      "We cannot add 2 arrays of different shapes "
     ]
    },
    {
     "cell_type": "code",
     "collapsed": false,
     "input": [
      "a=array([1,2])"
     ],
     "language": "python",
     "metadata": {},
     "outputs": [],
     "prompt_number": 10
    },
    {
     "cell_type": "code",
     "collapsed": false,
     "input": [
      "#a+a2"
     ],
     "language": "python",
     "metadata": {},
     "outputs": [],
     "prompt_number": 11
    },
    {
     "cell_type": "heading",
     "level": 5,
     "metadata": {},
     "source": [
      "Now we could also perform all the calculations on each array element in 1 go "
     ]
    },
    {
     "cell_type": "code",
     "collapsed": false,
     "input": [
      "a+3"
     ],
     "language": "python",
     "metadata": {},
     "outputs": [
      {
       "metadata": {},
       "output_type": "pyout",
       "prompt_number": 12,
       "text": [
        "array([4, 5])"
       ]
      }
     ],
     "prompt_number": 12
    },
    {
     "cell_type": "code",
     "collapsed": false,
     "input": [
      "from numpy import arange"
     ],
     "language": "python",
     "metadata": {},
     "outputs": [],
     "prompt_number": 13
    },
    {
     "cell_type": "code",
     "collapsed": false,
     "input": [
      "a=arange(21)*2*np.pi/2\n",
      "a"
     ],
     "language": "python",
     "metadata": {},
     "outputs": [
      {
       "metadata": {},
       "output_type": "pyout",
       "prompt_number": 14,
       "text": [
        "array([  0.        ,   3.14159265,   6.28318531,   9.42477796,\n",
        "        12.56637061,  15.70796327,  18.84955592,  21.99114858,\n",
        "        25.13274123,  28.27433388,  31.41592654,  34.55751919,\n",
        "        37.69911184,  40.8407045 ,  43.98229715,  47.1238898 ,\n",
        "        50.26548246,  53.40707511,  56.54866776,  59.69026042,  62.83185307])"
       ]
      }
     ],
     "prompt_number": 14
    },
    {
     "cell_type": "code",
     "collapsed": false,
     "input": [
      "b=np.cos(a)"
     ],
     "language": "python",
     "metadata": {},
     "outputs": [],
     "prompt_number": 15
    },
    {
     "cell_type": "code",
     "collapsed": false,
     "input": [
      "plt.plot(a,b)"
     ],
     "language": "python",
     "metadata": {},
     "outputs": [
      {
       "metadata": {},
       "output_type": "pyout",
       "prompt_number": 16,
       "text": [
        "[<matplotlib.lines.Line2D at 0x109e800d0>]"
       ]
      },
      {
       "metadata": {},
       "output_type": "display_data",
       "png": "[encoded data removed]",
       "text": [
        "<matplotlib.figure.Figure at 0x10676d810>"
       ]
      }
     ],
     "prompt_number": 16
    },
    {
     "cell_type": "heading",
     "level": 4,
     "metadata": {},
     "source": [
      "Matplotlib Basics"
     ]
    },
    {
     "cell_type": "code",
     "collapsed": false,
     "input": [
      "x=np.linspace(0,2*np.pi,50)\n",
      "plt.plot(np.sin(x))"
     ],
     "language": "python",
     "metadata": {},
     "outputs": [
      {
       "metadata": {},
       "output_type": "pyout",
       "prompt_number": 17,
       "text": [
        "[<matplotlib.lines.Line2D at 0x10a137810>]"
       ]
      },
      {
       "metadata": {},
       "output_type": "display_data",
       "png": "[encoded data removed]",
       "text": [
        "<matplotlib.figure.Figure at 0x109e8ef50>"
       ]
      }
     ],
     "prompt_number": 17
    },
    {
     "cell_type": "code",
     "collapsed": false,
     "input": [
      "plt.plot(x,np.sin(x),x,np.sin(2*x))\n",
      "#2 plots at the same time "
     ],
     "language": "python",
     "metadata": {},
     "outputs": [
      {
       "metadata": {},
       "output_type": "pyout",
       "prompt_number": 18,
       "text": [
        "[<matplotlib.lines.Line2D at 0x10a179a50>,\n",
        " <matplotlib.lines.Line2D at 0x10a24b9d0>]"
       ]
      },
      {
       "metadata": {},
       "output_type": "display_data",
       "png": "[encoded data removed]",
       "text": [
        "<matplotlib.figure.Figure at 0x10676d210>"
       ]
      }
     ],
     "prompt_number": 18
    },
    {
     "cell_type": "heading",
     "level": 5,
     "metadata": {},
     "source": [
      "By default the index of the array is used as the x-axes and the values taken as the y axes "
     ]
    },
    {
     "cell_type": "code",
     "collapsed": false,
     "input": [
      "#line formatting\n",
      "plt.plot(x,np.sin(x),'r-^',x,np.sin(2*x),'b-o')"
     ],
     "language": "python",
     "metadata": {},
     "outputs": [
      {
       "metadata": {},
       "output_type": "pyout",
       "prompt_number": 19,
       "text": [
        "[<matplotlib.lines.Line2D at 0x10a29bd10>,\n",
        " <matplotlib.lines.Line2D at 0x10a35e810>]"
       ]
      },
      {
       "metadata": {},
       "output_type": "display_data",
       "png": "[encoded data removed]",
       "text": [
        "<matplotlib.figure.Figure at 0x10a28ab50>"
       ]
      }
     ],
     "prompt_number": 19
    },
    {
     "cell_type": "code",
     "collapsed": false,
     "input": [
      "#simple scatter plot:\n",
      "x=np.linspace(0,2*np.pi,50)\n",
      "y=np.sin(x)\n",
      "plt.scatter(x,y)"
     ],
     "language": "python",
     "metadata": {},
     "outputs": [
      {
       "metadata": {},
       "output_type": "pyout",
       "prompt_number": 20,
       "text": [
        "<matplotlib.collections.PathCollection at 0x10a473590>"
       ]
      },
      {
       "metadata": {},
       "output_type": "display_data",
       "png": "[encoded data removed]",
       "text": [
        "<matplotlib.figure.Figure at 0x10a379f50>"
       ]
      }
     ],
     "prompt_number": 20
    },
    {
     "cell_type": "code",
     "collapsed": false,
     "input": [
      "x=np.random.rand(200)\n",
      "y=np.random.rand(200)\n",
      "size=np.random.rand(200)*30\n",
      "color=np.random.rand(200)\n",
      "plt.scatter(x,y,size,color)\n",
      "plt.colorbar()"
     ],
     "language": "python",
     "metadata": {},
     "outputs": [
      {
       "metadata": {},
       "output_type": "pyout",
       "prompt_number": 21,
       "text": [
        "<matplotlib.colorbar.Colorbar instance at 0x10a7445a8>"
       ]
      },
      {
       "metadata": {},
       "output_type": "display_data",
       "png": "[encoded data removed]",
       "text": [
        "<matplotlib.figure.Figure at 0x10a3be650>"
       ]
      }
     ],
     "prompt_number": 21
    },
    {
     "cell_type": "code",
     "collapsed": false,
     "input": [
      "#drawing multiple plots\n",
      "t=np.linspace(0,2*np.pi,50)\n",
      "x=np.sin(t)\n",
      "y=np.cos(t)\n",
      "plt.figure()\n",
      "plt.plot(x)\n",
      "plt.figure()\n",
      "plt.plot(y)"
     ],
     "language": "python",
     "metadata": {},
     "outputs": [
      {
       "metadata": {},
       "output_type": "pyout",
       "prompt_number": 22,
       "text": [
        "[<matplotlib.lines.Line2D at 0x10a92b3d0>]"
       ]
      },
      {
       "metadata": {},
       "output_type": "display_data",
       "png": "[encoded data removed]",
       "text": [
        "<matplotlib.figure.Figure at 0x10a784f10>"
       ]
      },
      {
       "metadata": {},
       "output_type": "display_data",
       "png": "[encoded data removed]",
       "text": [
        "<matplotlib.figure.Figure at 0x10a7bfe10>"
       ]
      }
     ],
     "prompt_number": 22
    },
    {
     "cell_type": "code",
     "collapsed": false,
     "input": [
      "#Multiple Plots using subplot\n",
      "x=array([1,2,3,2,1])\n",
      "y=array([1,3,2,3,1])\n",
      "plt.subplot(1,2,1)\n",
      "#first parameter is the number of rows and \n",
      "#second one is the number of columns\n",
      "#third one is the s.no. of active plot\n",
      "plt.plot(x,'b--')\n",
      "plt.subplot(1,2,2)\n",
      "plt.plot(y,'r-o')\n",
      "plt.axis('tight')"
     ],
     "language": "python",
     "metadata": {},
     "outputs": [
      {
       "metadata": {},
       "output_type": "pyout",
       "prompt_number": 23,
       "text": [
        "(0.0, 4.0, 1.0, 3.0)"
       ]
      },
      {
       "metadata": {},
       "output_type": "display_data",
       "png": "[encoded data removed]",
       "text": [
        "<matplotlib.figure.Figure at 0x10a967850>"
       ]
      }
     ],
     "prompt_number": 23
    },
    {
     "cell_type": "code",
     "collapsed": false,
     "input": [
      "plt.plot(np.sin(x))\n",
      "plt.hold(False)\n",
      "plt.plot(np.cos(x))"
     ],
     "language": "python",
     "metadata": {},
     "outputs": [
      {
       "metadata": {},
       "output_type": "pyout",
       "prompt_number": 24,
       "text": [
        "[<matplotlib.lines.Line2D at 0x10ae92350>]"
       ]
      },
      {
       "metadata": {},
       "output_type": "display_data",
       "png": "[encoded data removed]",
       "text": [
        "<matplotlib.figure.Figure at 0x10a42a910>"
       ]
      }
     ],
     "prompt_number": 24
    },
    {
     "cell_type": "heading",
     "level": 5,
     "metadata": {},
     "source": [
      "Therefore only the last plot is displayed "
     ]
    },
    {
     "cell_type": "heading",
     "level": 4,
     "metadata": {},
     "source": [
      "Legend"
     ]
    },
    {
     "cell_type": "code",
     "collapsed": true,
     "input": [
      "plt.plot(np.sin(x),label='sin')\n",
      "plt.plot(np.cos(x),label='cos')\n",
      "plt.legend()"
     ],
     "language": "python",
     "metadata": {},
     "outputs": [
      {
       "metadata": {},
       "output_type": "pyout",
       "prompt_number": 25,
       "text": [
        "<matplotlib.legend.Legend at 0x10b0da790>"
       ]
      },
      {
       "metadata": {},
       "output_type": "display_data",
       "png": "[encoded data removed]",
       "text": [
        "<matplotlib.figure.Figure at 0x10b005690>"
       ]
      }
     ],
     "prompt_number": 25
    },
    {
     "cell_type": "heading",
     "level": 5,
     "metadata": {},
     "source": [
      "Another way without giving it without the label"
     ]
    },
    {
     "cell_type": "code",
     "collapsed": false,
     "input": [
      "plt.plot(np.sin(x))\n",
      "plt.hold(True)\n",
      "plt.plot(np.cos(x))\n",
      "plt.legend(['sin','cos'])\n",
      "plt.xlabel('radians',fontsize='large')\n",
      "plt.ylabel('radians_y',fontsize='large')\n",
      "plt.title('This is title')\n",
      "plt.grid()"
     ],
     "language": "python",
     "metadata": {},
     "outputs": [
      {
       "metadata": {},
       "output_type": "display_data",
       "png": "[encoded data removed]",
       "text": [
        "<matplotlib.figure.Figure at 0x10b03e4d0>"
       ]
      }
     ],
     "prompt_number": 26
    },
    {
     "cell_type": "heading",
     "level": 5,
     "metadata": {},
     "source": [
      "Clearing a figure:"
     ]
    },
    {
     "cell_type": "code",
     "collapsed": false,
     "input": [
      "plt.clf()"
     ],
     "language": "python",
     "metadata": {},
     "outputs": [
      {
       "metadata": {},
       "output_type": "display_data",
       "text": [
        "<matplotlib.figure.Figure at 0x109f07290>"
       ]
      }
     ],
     "prompt_number": 27
    },
    {
     "cell_type": "code",
     "collapsed": false,
     "input": [
      "#Close() will close the currently active plot window "
     ],
     "language": "python",
     "metadata": {},
     "outputs": [],
     "prompt_number": 28
    },
    {
     "cell_type": "heading",
     "level": 4,
     "metadata": {},
     "source": [
      "Image display"
     ]
    },
    {
     "cell_type": "code",
     "collapsed": false,
     "input": [
      "from scipy.misc import lena\n",
      "img=lena()"
     ],
     "language": "python",
     "metadata": {},
     "outputs": [],
     "prompt_number": 29
    },
    {
     "cell_type": "code",
     "collapsed": false,
     "input": [
      "plt.imshow(img,extent=[-25,25,-25,25],cmap=plt.cm.bone)\n",
      "#extent is minimum and maximum x values and minimum\n",
      "#and maximum y values \n",
      "plt.colorbar()"
     ],
     "language": "python",
     "metadata": {},
     "outputs": [
      {
       "metadata": {},
       "output_type": "pyout",
       "prompt_number": 30,
       "text": [
        "<matplotlib.colorbar.Colorbar instance at 0x10aa02d40>"
       ]
      },
      {
       "metadata": {},
       "output_type": "display_data",
       "png": "[encoded data removed]",
       "text": [
        "<matplotlib.figure.Figure at 0x10b233b90>"
       ]
      }
     ],
     "prompt_number": 30
    },
    {
     "cell_type": "heading",
     "level": 5,
     "metadata": {},
     "source": [
      "plt.show() used in case of plotting from script "
     ]
    },
    {
     "cell_type": "heading",
     "level": 4,
     "metadata": {},
     "source": [
      "Histograms "
     ]
    },
    {
     "cell_type": "code",
     "collapsed": false,
     "input": [
      "plt.hist(np.random.randn(1000),30)\n",
      "#second parameter is the number of bins "
     ],
     "language": "python",
     "metadata": {},
     "outputs": [
      {
       "metadata": {},
       "output_type": "pyout",
       "prompt_number": 31,
       "text": [
        "(array([   1.,    1.,    1.,    2.,    6.,    7.,   18.,   24.,   23.,\n",
        "          32.,   59.,   53.,   84.,  100.,   93.,  103.,   95.,   80.,\n",
        "          59.,   49.,   35.,   30.,   19.,    6.,   13.,    3.,    3.,\n",
        "           0.,    0.,    1.]),\n",
        " array([-3.35928518, -3.13246959, -2.90565399, -2.67883839, -2.4520228 ,\n",
        "        -2.2252072 , -1.9983916 , -1.771576  , -1.54476041, -1.31794481,\n",
        "        -1.09112921, -0.86431361, -0.63749802, -0.41068242, -0.18386682,\n",
        "         0.04294878,  0.26976437,  0.49657997,  0.72339557,  0.95021117,\n",
        "         1.17702676,  1.40384236,  1.63065796,  1.85747356,  2.08428915,\n",
        "         2.31110475,  2.53792035,  2.76473595,  2.99155154,  3.21836714,\n",
        "         3.44518274]),\n",
        " <a list of 30 Patch objects>)"
       ]
      },
      {
       "metadata": {},
       "output_type": "display_data",
       "png": "[encoded data removed]",
       "text": [
        "<matplotlib.figure.Figure at 0x10aaea790>"
       ]
      }
     ],
     "prompt_number": 31
    },
    {
     "cell_type": "heading",
     "level": 4,
     "metadata": {},
     "source": [
      "Error Bars"
     ]
    },
    {
     "cell_type": "code",
     "collapsed": false,
     "input": [
      "x=np.linspace(0,2*np.pi,10)\n",
      "y=np.sin(x)\n",
      "yerr=np.random.rand(10)\n",
      "xerr=np.random.rand(10)/3\n",
      "plt.errorbar(x,y,yerr,xerr)"
     ],
     "language": "python",
     "metadata": {},
     "outputs": [
      {
       "metadata": {},
       "output_type": "pyout",
       "prompt_number": 32,
       "text": [
        "<Container object of 3 artists>"
       ]
      },
      {
       "metadata": {},
       "output_type": "display_data",
       "png": "[encoded data removed]",
       "text": [
        "<matplotlib.figure.Figure at 0x10b1f4e10>"
       ]
      }
     ],
     "prompt_number": 32
    },
    {
     "cell_type": "heading",
     "level": 4,
     "metadata": {},
     "source": [
      "Boxplots "
     ]
    },
    {
     "cell_type": "code",
     "collapsed": false,
     "input": [
      "from numpy.random import normal"
     ],
     "language": "python",
     "metadata": {},
     "outputs": [],
     "prompt_number": 33
    },
    {
     "cell_type": "code",
     "collapsed": false,
     "input": [
      "ex=[normal(i,1+i/2,size=(500,)) for i in np.arange(4.)]"
     ],
     "language": "python",
     "metadata": {},
     "outputs": [],
     "prompt_number": 34
    },
    {
     "cell_type": "code",
     "collapsed": false,
     "input": [
      "positions=np.arange(len(ex))+1"
     ],
     "language": "python",
     "metadata": {},
     "outputs": [],
     "prompt_number": 35
    },
    {
     "cell_type": "code",
     "collapsed": false,
     "input": [
      "plt.boxplot(ex,sym='k+',notch=True,positions=positions)"
     ],
     "language": "python",
     "metadata": {},
     "outputs": [
      {
       "metadata": {},
       "output_type": "pyout",
       "prompt_number": 36,
       "text": [
        "{'boxes': [<matplotlib.lines.Line2D at 0x10d707350>,\n",
        "  <matplotlib.lines.Line2D at 0x10d90f310>,\n",
        "  <matplotlib.lines.Line2D at 0x10d928f10>,\n",
        "  <matplotlib.lines.Line2D at 0x10d949b50>],\n",
        " 'caps': [<matplotlib.lines.Line2D at 0x10d7d8990>,\n",
        "  <matplotlib.lines.Line2D at 0x10d7d8fd0>,\n",
        "  <matplotlib.lines.Line2D at 0x10d91d5d0>,\n",
        "  <matplotlib.lines.Line2D at 0x10d91dc10>,\n",
        "  <matplotlib.lines.Line2D at 0x10d93d210>,\n",
        "  <matplotlib.lines.Line2D at 0x10d93d850>,\n",
        "  <matplotlib.lines.Line2D at 0x10d956e10>,\n",
        "  <matplotlib.lines.Line2D at 0x10d960490>],\n",
        " 'fliers': [<matplotlib.lines.Line2D at 0x10d904c90>,\n",
        "  <matplotlib.lines.Line2D at 0x10d9288d0>,\n",
        "  <matplotlib.lines.Line2D at 0x10d949510>,\n",
        "  <matplotlib.lines.Line2D at 0x10d96c150>],\n",
        " 'means': [],\n",
        " 'medians': [<matplotlib.lines.Line2D at 0x10d904650>,\n",
        "  <matplotlib.lines.Line2D at 0x10d928290>,\n",
        "  <matplotlib.lines.Line2D at 0x10d93de90>,\n",
        "  <matplotlib.lines.Line2D at 0x10d960ad0>],\n",
        " 'whiskers': [<matplotlib.lines.Line2D at 0x10d7cbc50>,\n",
        "  <matplotlib.lines.Line2D at 0x10d7d8350>,\n",
        "  <matplotlib.lines.Line2D at 0x10d90f910>,\n",
        "  <matplotlib.lines.Line2D at 0x10d90ff50>,\n",
        "  <matplotlib.lines.Line2D at 0x10d933550>,\n",
        "  <matplotlib.lines.Line2D at 0x10d933b90>,\n",
        "  <matplotlib.lines.Line2D at 0x10d956190>,\n",
        "  <matplotlib.lines.Line2D at 0x10d9567d0>]}"
       ]
      },
      {
       "metadata": {},
       "output_type": "display_data",
       "png": "[encoded data removed]",
       "text": [
        "<matplotlib.figure.Figure at 0x10b145f90>"
       ]
      }
     ],
     "prompt_number": 36
    },
    {
     "cell_type": "heading",
     "level": 4,
     "metadata": {},
     "source": [
      "3-d Graphs "
     ]
    },
    {
     "cell_type": "code",
     "collapsed": false,
     "input": [
      "#the following module is required for making these graphs\n",
      "from mpl_toolkits.mplot3d import Axes3D\n",
      "x=np.linspace(0,30,1000)\n",
      "y=np.cos(x)*x\n",
      "z=np.sin(x)*x\n",
      "fig=plt.figure()\n",
      "ax=fig.gca(projection='3d')\n",
      "ax.plot(x,y,z)\n",
      "plt.xlabel('x')\n",
      "plt.ylabel('y')\n",
      "plt.title('This is a 3-d graph')"
     ],
     "language": "python",
     "metadata": {},
     "outputs": [
      {
       "metadata": {},
       "output_type": "pyout",
       "prompt_number": 37,
       "text": [
        "<matplotlib.text.Text at 0x10da638d0>"
       ]
      },
      {
       "metadata": {},
       "output_type": "display_data",
       "png": "[encoded data removed]",
       "text": [
        "<matplotlib.figure.Figure at 0x10d5ab110>"
       ]
      }
     ],
     "prompt_number": 37
    },
    {
     "cell_type": "heading",
     "level": 4,
     "metadata": {},
     "source": [
      "Back to Numpy "
     ]
    },
    {
     "cell_type": "code",
     "collapsed": false,
     "input": [
      "a=array([1,2,3,4])"
     ],
     "language": "python",
     "metadata": {},
     "outputs": [],
     "prompt_number": 38
    },
    {
     "cell_type": "code",
     "collapsed": false,
     "input": [
      "type(a)"
     ],
     "language": "python",
     "metadata": {},
     "outputs": [
      {
       "metadata": {},
       "output_type": "pyout",
       "prompt_number": 39,
       "text": [
        "numpy.ndarray"
       ]
      }
     ],
     "prompt_number": 39
    },
    {
     "cell_type": "code",
     "collapsed": false,
     "input": [
      "a.shape"
     ],
     "language": "python",
     "metadata": {},
     "outputs": [
      {
       "metadata": {},
       "output_type": "pyout",
       "prompt_number": 40,
       "text": [
        "(4,)"
       ]
      }
     ],
     "prompt_number": 40
    },
    {
     "cell_type": "code",
     "collapsed": false,
     "input": [
      "a.itemsize # bytes per element"
     ],
     "language": "python",
     "metadata": {},
     "outputs": [
      {
       "metadata": {},
       "output_type": "pyout",
       "prompt_number": 41,
       "text": [
        "8"
       ]
      }
     ],
     "prompt_number": 41
    },
    {
     "cell_type": "code",
     "collapsed": false,
     "input": [
      "a.size# number of elements"
     ],
     "language": "python",
     "metadata": {},
     "outputs": [
      {
       "metadata": {},
       "output_type": "pyout",
       "prompt_number": 42,
       "text": [
        "4"
       ]
      }
     ],
     "prompt_number": 42
    },
    {
     "cell_type": "code",
     "collapsed": false,
     "input": [
      "a.ndim"
     ],
     "language": "python",
     "metadata": {},
     "outputs": [
      {
       "metadata": {},
       "output_type": "pyout",
       "prompt_number": 43,
       "text": [
        "1"
       ]
      }
     ],
     "prompt_number": 43
    },
    {
     "cell_type": "code",
     "collapsed": false,
     "input": [
      "a.nbytes#total bytes held by all elements"
     ],
     "language": "python",
     "metadata": {},
     "outputs": [
      {
       "metadata": {},
       "output_type": "pyout",
       "prompt_number": 44,
       "text": [
        "32"
       ]
      }
     ],
     "prompt_number": 44
    },
    {
     "cell_type": "code",
     "collapsed": false,
     "input": [
      "a=array([1,2,3,4])\n",
      "b=array([1,2,3,4])\n",
      "%timeit a.fill(0)\n",
      "%timeit b[:]=0"
     ],
     "language": "python",
     "metadata": {},
     "outputs": [
      {
       "output_type": "stream",
       "stream": "stdout",
       "text": [
        "1000000 loops, best of 3: 219 ns per loop\n",
        "1000000 loops, best of 3: 393 ns per loop"
       ]
      },
      {
       "output_type": "stream",
       "stream": "stdout",
       "text": [
        "\n"
       ]
      }
     ],
     "prompt_number": 45
    },
    {
     "cell_type": "code",
     "collapsed": false,
     "input": [
      "print a,b"
     ],
     "language": "python",
     "metadata": {},
     "outputs": [
      {
       "output_type": "stream",
       "stream": "stdout",
       "text": [
        "[0 0 0 0] [0 0 0 0]\n"
       ]
      }
     ],
     "prompt_number": 46
    },
    {
     "cell_type": "heading",
     "level": 5,
     "metadata": {},
     "source": [
      "Therefore fill() function is a faster was to fill all the elements in the array "
     ]
    },
    {
     "cell_type": "heading",
     "level": 5,
     "metadata": {},
     "source": [
      "Now we see how data type plays a role  "
     ]
    },
    {
     "cell_type": "code",
     "collapsed": false,
     "input": [
      "a.dtype"
     ],
     "language": "python",
     "metadata": {},
     "outputs": [
      {
       "metadata": {},
       "output_type": "pyout",
       "prompt_number": 47,
       "text": [
        "dtype('int64')"
       ]
      }
     ],
     "prompt_number": 47
    },
    {
     "cell_type": "code",
     "collapsed": false,
     "input": [
      "a[0]=4.5"
     ],
     "language": "python",
     "metadata": {},
     "outputs": [],
     "prompt_number": 48
    },
    {
     "cell_type": "code",
     "collapsed": false,
     "input": [
      "a[0]"
     ],
     "language": "python",
     "metadata": {},
     "outputs": [
      {
       "metadata": {},
       "output_type": "pyout",
       "prompt_number": 49,
       "text": [
        "4"
       ]
      }
     ],
     "prompt_number": 49
    },
    {
     "cell_type": "heading",
     "level": 5,
     "metadata": {},
     "source": [
      "thus the .5 is truncated to convert it to integer "
     ]
    },
    {
     "cell_type": "heading",
     "level": 5,
     "metadata": {},
     "source": [
      "fill() has the same behavior as well "
     ]
    },
    {
     "cell_type": "code",
     "collapsed": false,
     "input": [
      "a.fill(-4.8)"
     ],
     "language": "python",
     "metadata": {},
     "outputs": [],
     "prompt_number": 50
    },
    {
     "cell_type": "code",
     "collapsed": false,
     "input": [
      "a"
     ],
     "language": "python",
     "metadata": {},
     "outputs": [
      {
       "metadata": {},
       "output_type": "pyout",
       "prompt_number": 51,
       "text": [
        "array([-4, -4, -4, -4])"
       ]
      }
     ],
     "prompt_number": 51
    },
    {
     "cell_type": "heading",
     "level": 4,
     "metadata": {},
     "source": [
      "Slicing "
     ]
    },
    {
     "cell_type": "code",
     "collapsed": false,
     "input": [
      "a=array([10,11,12,13,14])"
     ],
     "language": "python",
     "metadata": {},
     "outputs": [],
     "prompt_number": 52
    },
    {
     "cell_type": "code",
     "collapsed": false,
     "input": [
      "a[1:3]"
     ],
     "language": "python",
     "metadata": {},
     "outputs": [
      {
       "metadata": {},
       "output_type": "pyout",
       "prompt_number": 53,
       "text": [
        "array([11, 12])"
       ]
      }
     ],
     "prompt_number": 53
    },
    {
     "cell_type": "heading",
     "level": 5,
     "metadata": {},
     "source": [
      "3rd index not included "
     ]
    },
    {
     "cell_type": "heading",
     "level": 5,
     "metadata": {},
     "source": [
      "Now suppose we want last 2 elements:"
     ]
    },
    {
     "cell_type": "code",
     "collapsed": false,
     "input": [
      "a[-2:]"
     ],
     "language": "python",
     "metadata": {},
     "outputs": [
      {
       "metadata": {},
       "output_type": "pyout",
       "prompt_number": 54,
       "text": [
        "array([13, 14])"
       ]
      }
     ],
     "prompt_number": 54
    },
    {
     "cell_type": "heading",
     "level": 5,
     "metadata": {},
     "source": [
      "Suppose we want every other element:"
     ]
    },
    {
     "cell_type": "code",
     "collapsed": false,
     "input": [
      "a[::2]"
     ],
     "language": "python",
     "metadata": {},
     "outputs": [
      {
       "metadata": {},
       "output_type": "pyout",
       "prompt_number": 55,
       "text": [
        "array([10, 12, 14])"
       ]
      }
     ],
     "prompt_number": 55
    },
    {
     "cell_type": "code",
     "collapsed": false,
     "input": [
      "a[::3]"
     ],
     "language": "python",
     "metadata": {},
     "outputs": [
      {
       "metadata": {},
       "output_type": "pyout",
       "prompt_number": 56,
       "text": [
        "array([10, 13])"
       ]
      }
     ],
     "prompt_number": 56
    },
    {
     "cell_type": "heading",
     "level": 5,
     "metadata": {},
     "source": [
      "Therefore the 3 parameters are :\n",
      "    lower:upper:step"
     ]
    },
    {
     "cell_type": "heading",
     "level": 4,
     "metadata": {},
     "source": [
      "Multi dimentioal arrays:"
     ]
    },
    {
     "cell_type": "code",
     "collapsed": false,
     "input": [
      "a=array([[1,2,3],[4,5,6],[7,8,9]])\n",
      "a"
     ],
     "language": "python",
     "metadata": {},
     "outputs": [
      {
       "metadata": {},
       "output_type": "pyout",
       "prompt_number": 57,
       "text": [
        "array([[1, 2, 3],\n",
        "       [4, 5, 6],\n",
        "       [7, 8, 9]])"
       ]
      }
     ],
     "prompt_number": 57
    },
    {
     "cell_type": "code",
     "collapsed": false,
     "input": [
      "a.ndim"
     ],
     "language": "python",
     "metadata": {},
     "outputs": [
      {
       "metadata": {},
       "output_type": "pyout",
       "prompt_number": 58,
       "text": [
        "2"
       ]
      }
     ],
     "prompt_number": 58
    },
    {
     "cell_type": "code",
     "collapsed": false,
     "input": [
      "a.shape"
     ],
     "language": "python",
     "metadata": {},
     "outputs": [
      {
       "metadata": {},
       "output_type": "pyout",
       "prompt_number": 59,
       "text": [
        "(3, 3)"
       ]
      }
     ],
     "prompt_number": 59
    },
    {
     "cell_type": "heading",
     "level": 4,
     "metadata": {},
     "source": [
      "Differentiation using slicing "
     ]
    },
    {
     "cell_type": "code",
     "collapsed": false,
     "input": [
      "x=np.linspace(0,2*np.pi,101)\n",
      "y=np.sin(x)\n",
      "\n",
      "dy=y[1:]-y[:-1]\n",
      "dx=x[1:]-x[:-1]"
     ],
     "language": "python",
     "metadata": {},
     "outputs": [],
     "prompt_number": 60
    },
    {
     "cell_type": "code",
     "collapsed": false,
     "input": [
      "dy_dx=dy/dx"
     ],
     "language": "python",
     "metadata": {},
     "outputs": [],
     "prompt_number": 61
    },
    {
     "cell_type": "code",
     "collapsed": false,
     "input": [
      "centers_x = (x[1:]+x[:-1])/2.0"
     ],
     "language": "python",
     "metadata": {},
     "outputs": [],
     "prompt_number": 62
    },
    {
     "cell_type": "code",
     "collapsed": false,
     "input": [
      "plt.subplot(1,2,1)\n",
      "plt.plot(centers_x,dy_dx,'r-o',centers_x,np.cos(centers_x),'b--')\n",
      "plt.title(\"Derivative of Sinx\")\n",
      "plt.show()"
     ],
     "language": "python",
     "metadata": {},
     "outputs": [
      {
       "metadata": {},
       "output_type": "display_data",
       "png": "[encoded data removed]",
       "text": [
        "<matplotlib.figure.Figure at 0x10dae1d50>"
       ]
      }
     ],
     "prompt_number": 63
    },
    {
     "cell_type": "heading",
     "level": 4,
     "metadata": {},
     "source": [
      "Integration "
     ]
    },
    {
     "cell_type": "code",
     "collapsed": false,
     "input": [
      "#use cumsum() function:\n",
      "a=array([2,3,4])\n",
      "np.cumsum(a)"
     ],
     "language": "python",
     "metadata": {},
     "outputs": [
      {
       "metadata": {},
       "output_type": "pyout",
       "prompt_number": 64,
       "text": [
        "array([2, 5, 9])"
       ]
      }
     ],
     "prompt_number": 64
    },
    {
     "cell_type": "code",
     "collapsed": false,
     "input": [
      "x=np.linspace(0,2*np.pi,101)\n",
      "y=np.sin(x)\n",
      "#trapezoidal rule integration:\n",
      "#Here we need the y_centers\n",
      "\n",
      "y_centers = (y[:-1]+y[1:])/2.0\n",
      "x_start=x[:-1]"
     ],
     "language": "python",
     "metadata": {},
     "outputs": [],
     "prompt_number": 65
    },
    {
     "cell_type": "code",
     "collapsed": false,
     "input": [
      "Area_trapezoid= x_start*y_centers"
     ],
     "language": "python",
     "metadata": {},
     "outputs": [],
     "prompt_number": 66
    },
    {
     "cell_type": "code",
     "collapsed": false,
     "input": [
      "integral=sum(Area_trapezoid) #definite integral value \n",
      "integral"
     ],
     "language": "python",
     "metadata": {},
     "outputs": [
      {
       "metadata": {},
       "output_type": "pyout",
       "prompt_number": 67,
       "text": [
        "-99.967099153813081"
       ]
      }
     ],
     "prompt_number": 67
    },
    {
     "cell_type": "code",
     "collapsed": false,
     "input": [
      "#Now lets plot the integral function :\n",
      "plt.subplot(1,2,1)\n",
      "plt.plot(x,y,'r-')\n",
      "plt.title('This is original Function -- Sin(x) ')\n",
      "plt.subplot(1,2,2)\n",
      "plt.plot(x_start,Area_trapezoid,'bo')\n",
      "plt.title('This is the integral Function -- -Cos(x) ')\n",
      "plt.subplots_adjust(left=0.25, bottom=None, right=3.05, top=None, wspace=None, hspace=None)"
     ],
     "language": "python",
     "metadata": {},
     "outputs": [
      {
       "metadata": {},
       "output_type": "display_data",
       "png": "[encoded data removed]",
       "text": [
        "<matplotlib.figure.Figure at 0x10db7a590>"
       ]
      }
     ],
     "prompt_number": 68
    },
    {
     "cell_type": "heading",
     "level": 4,
     "metadata": {},
     "source": [
      "Multi dimensional arrays :"
     ]
    },
    {
     "cell_type": "code",
     "collapsed": false,
     "input": [
      "a=array([[0,1,2,3],[10,11,12,13]])\n",
      "a"
     ],
     "language": "python",
     "metadata": {},
     "outputs": [
      {
       "metadata": {},
       "output_type": "pyout",
       "prompt_number": 69,
       "text": [
        "array([[ 0,  1,  2,  3],\n",
        "       [10, 11, 12, 13]])"
       ]
      }
     ],
     "prompt_number": 69
    },
    {
     "cell_type": "code",
     "collapsed": false,
     "input": [
      "print a.shape\n",
      "print a.ndim\n",
      "print a.dtype\n",
      "print a.size"
     ],
     "language": "python",
     "metadata": {},
     "outputs": [
      {
       "output_type": "stream",
       "stream": "stdout",
       "text": [
        "(2, 4)\n",
        "2\n",
        "int64\n",
        "8\n"
       ]
      }
     ],
     "prompt_number": 70
    },
    {
     "cell_type": "code",
     "collapsed": false,
     "input": [
      "a[0] # to display the first row"
     ],
     "language": "python",
     "metadata": {},
     "outputs": [
      {
       "metadata": {},
       "output_type": "pyout",
       "prompt_number": 71,
       "text": [
        "array([0, 1, 2, 3])"
       ]
      }
     ],
     "prompt_number": 71
    },
    {
     "cell_type": "code",
     "collapsed": false,
     "input": [
      "a[0,1]"
     ],
     "language": "python",
     "metadata": {},
     "outputs": [
      {
       "metadata": {},
       "output_type": "pyout",
       "prompt_number": 72,
       "text": [
        "1"
       ]
      }
     ],
     "prompt_number": 72
    },
    {
     "cell_type": "heading",
     "level": 4,
     "metadata": {},
     "source": [
      "Array Slicing"
     ]
    },
    {
     "cell_type": "code",
     "collapsed": false,
     "input": [
      "a[0,1:2] # output of slicing is always another array"
     ],
     "language": "python",
     "metadata": {},
     "outputs": [
      {
       "metadata": {},
       "output_type": "pyout",
       "prompt_number": 73,
       "text": [
        "array([1])"
       ]
      }
     ],
     "prompt_number": 73
    },
    {
     "cell_type": "code",
     "collapsed": false,
     "input": [
      "a[:,1:2]#to get second element of each row"
     ],
     "language": "python",
     "metadata": {},
     "outputs": [
      {
       "metadata": {},
       "output_type": "pyout",
       "prompt_number": 74,
       "text": [
        "array([[ 1],\n",
        "       [11]])"
       ]
      }
     ],
     "prompt_number": 74
    },
    {
     "cell_type": "code",
     "collapsed": false,
     "input": [
      "a=array([[0,1,2,3],[4,5,6,7],[8,9,10,11],[12,13,14,15]])\n",
      "a"
     ],
     "language": "python",
     "metadata": {},
     "outputs": [
      {
       "metadata": {},
       "output_type": "pyout",
       "prompt_number": 82,
       "text": [
        "array([[ 0,  1,  2,  3],\n",
        "       [ 4,  5,  6,  7],\n",
        "       [ 8,  9, 10, 11],\n",
        "       [12, 13, 14, 15]])"
       ]
      }
     ],
     "prompt_number": 82
    },
    {
     "cell_type": "heading",
     "level": 5,
     "metadata": {},
     "source": [
      "Suppose we want to select the right down corner 4 elements of the array :"
     ]
    },
    {
     "cell_type": "code",
     "collapsed": false,
     "input": [
      "a[2:,2:]"
     ],
     "language": "python",
     "metadata": {},
     "outputs": [
      {
       "metadata": {},
       "output_type": "pyout",
       "prompt_number": 83,
       "text": [
        "array([[10, 11],\n",
        "       [14, 15]])"
       ]
      }
     ],
     "prompt_number": 83
    },
    {
     "cell_type": "code",
     "collapsed": false,
     "input": [
      "#We are getting refrences each time\n",
      "b=a[2:,2:]\n",
      "b[0,0]"
     ],
     "language": "python",
     "metadata": {},
     "outputs": [
      {
       "metadata": {},
       "output_type": "pyout",
       "prompt_number": 84,
       "text": [
        "10"
       ]
      }
     ],
     "prompt_number": 84
    },
    {
     "cell_type": "code",
     "collapsed": false,
     "input": [
      "b[0,0]=999"
     ],
     "language": "python",
     "metadata": {},
     "outputs": [],
     "prompt_number": 85
    },
    {
     "cell_type": "code",
     "collapsed": false,
     "input": [
      "b"
     ],
     "language": "python",
     "metadata": {},
     "outputs": [
      {
       "metadata": {},
       "output_type": "pyout",
       "prompt_number": 86,
       "text": [
        "array([[999,  11],\n",
        "       [ 14,  15]])"
       ]
      }
     ],
     "prompt_number": 86
    },
    {
     "cell_type": "code",
     "collapsed": false,
     "input": [
      "a"
     ],
     "language": "python",
     "metadata": {},
     "outputs": [
      {
       "metadata": {},
       "output_type": "pyout",
       "prompt_number": 87,
       "text": [
        "array([[  0,   1,   2,   3],\n",
        "       [  4,   5,   6,   7],\n",
        "       [  8,   9, 999,  11],\n",
        "       [ 12,  13,  14,  15]])"
       ]
      }
     ],
     "prompt_number": 87
    },
    {
     "cell_type": "heading",
     "level": 5,
     "metadata": {},
     "source": [
      "Clearly any change made in b is also reflected in a "
     ]
    },
    {
     "cell_type": "code",
     "collapsed": false,
     "input": [
      "a=array([[0,1,2,3],[4,5,6,7],[8,9,10,11],[12,13,14,15]])\n",
      "a"
     ],
     "language": "python",
     "metadata": {},
     "outputs": [
      {
       "metadata": {},
       "output_type": "pyout",
       "prompt_number": 88,
       "text": [
        "array([[ 0,  1,  2,  3],\n",
        "       [ 4,  5,  6,  7],\n",
        "       [ 8,  9, 10, 11],\n",
        "       [12, 13, 14, 15]])"
       ]
      }
     ],
     "prompt_number": 88
    },
    {
     "cell_type": "code",
     "collapsed": false,
     "input": [
      "b=a[2:,2:].copy()"
     ],
     "language": "python",
     "metadata": {},
     "outputs": [],
     "prompt_number": 89
    },
    {
     "cell_type": "code",
     "collapsed": false,
     "input": [
      "b"
     ],
     "language": "python",
     "metadata": {},
     "outputs": [
      {
       "metadata": {},
       "output_type": "pyout",
       "prompt_number": 90,
       "text": [
        "array([[10, 11],\n",
        "       [14, 15]])"
       ]
      }
     ],
     "prompt_number": 90
    },
    {
     "cell_type": "code",
     "collapsed": false,
     "input": [
      "b[0,0]=999\n",
      "b"
     ],
     "language": "python",
     "metadata": {},
     "outputs": [
      {
       "metadata": {},
       "output_type": "pyout",
       "prompt_number": 91,
       "text": [
        "array([[999,  11],\n",
        "       [ 14,  15]])"
       ]
      }
     ],
     "prompt_number": 91
    },
    {
     "cell_type": "code",
     "collapsed": false,
     "input": [
      "a"
     ],
     "language": "python",
     "metadata": {},
     "outputs": [
      {
       "metadata": {},
       "output_type": "pyout",
       "prompt_number": 92,
       "text": [
        "array([[ 0,  1,  2,  3],\n",
        "       [ 4,  5,  6,  7],\n",
        "       [ 8,  9, 10, 11],\n",
        "       [12, 13, 14, 15]])"
       ]
      }
     ],
     "prompt_number": 92
    },
    {
     "cell_type": "heading",
     "level": 5,
     "metadata": {},
     "source": [
      "Clearly the copy() function did not let the changes get reflected in a"
     ]
    },
    {
     "cell_type": "heading",
     "level": 5,
     "metadata": {},
     "source": [
      "Another way to make arrays :"
     ]
    },
    {
     "cell_type": "code",
     "collapsed": false,
     "input": [
      "a=np.arange(16)\n",
      "a.shape=4,4\n",
      "a"
     ],
     "language": "python",
     "metadata": {},
     "outputs": [
      {
       "metadata": {},
       "output_type": "pyout",
       "prompt_number": 99,
       "text": [
        "array([[ 0,  1,  2,  3],\n",
        "       [ 4,  5,  6,  7],\n",
        "       [ 8,  9, 10, 11],\n",
        "       [12, 13, 14, 15]])"
       ]
      }
     ],
     "prompt_number": 99
    },
    {
     "cell_type": "heading",
     "level": 5,
     "metadata": {},
     "source": [
      "Strides are also possible through slicing"
     ]
    },
    {
     "cell_type": "code",
     "collapsed": false,
     "input": [
      "a[2::2,::2]"
     ],
     "language": "python",
     "metadata": {},
     "outputs": [
      {
       "metadata": {},
       "output_type": "pyout",
       "prompt_number": 100,
       "text": [
        "array([[ 8, 10]])"
       ]
      }
     ],
     "prompt_number": 100
    },
    {
     "cell_type": "heading",
     "level": 5,
     "metadata": {},
     "source": [
      "Smoothening in an array :\n",
      "    "
     ]
    },
    {
     "cell_type": "code",
     "collapsed": false,
     "input": [
      "img_center=a[1:-1,1:-1]"
     ],
     "language": "python",
     "metadata": {},
     "outputs": [],
     "prompt_number": 105
    },
    {
     "cell_type": "code",
     "collapsed": false,
     "input": [
      "img_upper=a[:2,1:-1]"
     ],
     "language": "python",
     "metadata": {},
     "outputs": [],
     "prompt_number": 106
    },
    {
     "cell_type": "code",
     "collapsed": false,
     "input": [
      "image_z=(img_center+img_upper)/2"
     ],
     "language": "python",
     "metadata": {},
     "outputs": [],
     "prompt_number": 107
    },
    {
     "cell_type": "code",
     "collapsed": false,
     "input": [
      "image_z"
     ],
     "language": "python",
     "metadata": {},
     "outputs": [
      {
       "metadata": {},
       "output_type": "pyout",
       "prompt_number": 108,
       "text": [
        "array([[3, 4],\n",
        "       [7, 8]])"
       ]
      }
     ],
     "prompt_number": 108
    },
    {
     "cell_type": "heading",
     "level": 5,
     "metadata": {},
     "source": [
      "Therefore slicing is very helpful as we dont have to use the for loops "
     ]
    },
    {
     "cell_type": "heading",
     "level": 5,
     "metadata": {},
     "source": [
      "Now similarly this could be done for right,left,down and right:"
     ]
    },
    {
     "cell_type": "code",
     "collapsed": false,
     "input": [
      "img_center=a[1:-1,1:-1]\n",
      "img_upper=a[:2,1:-1]\n",
      "img_lower=a[2:,1:-1]\n",
      "image_right=a[1:-1,2:]\n",
      "image_left=a[1:-1,:2]"
     ],
     "language": "python",
     "metadata": {},
     "outputs": [],
     "prompt_number": 109
    },
    {
     "cell_type": "code",
     "collapsed": false,
     "input": [
      "image_a=(img_center+img_upper+img_lower+image_right+image_left)/5\n",
      "image_a"
     ],
     "language": "python",
     "metadata": {},
     "outputs": [
      {
       "metadata": {},
       "output_type": "pyout",
       "prompt_number": 111,
       "text": [
        "array([[ 5,  6],\n",
        "       [ 9, 10]])"
       ]
      }
     ],
     "prompt_number": 111
    },
    {
     "cell_type": "heading",
     "level": 4,
     "metadata": {},
     "source": [
      "Fancy Indexing"
     ]
    },
    {
     "cell_type": "code",
     "collapsed": false,
     "input": [
      "indices=[1,2,-3]\n",
      "a=np.arange(0,80,10)"
     ],
     "language": "python",
     "metadata": {},
     "outputs": [],
     "prompt_number": 113
    },
    {
     "cell_type": "code",
     "collapsed": false,
     "input": [
      "y=a[indices]\n",
      "y"
     ],
     "language": "python",
     "metadata": {},
     "outputs": [
      {
       "metadata": {},
       "output_type": "pyout",
       "prompt_number": 115,
       "text": [
        "array([10, 20, 50])"
       ]
      }
     ],
     "prompt_number": 115
    },
    {
     "cell_type": "heading",
     "level": 5,
     "metadata": {},
     "source": [
      "Here the important thing is that we get a copy in this case therefore changes in y are not reflected back in a"
     ]
    },
    {
     "cell_type": "heading",
     "level": 5,
     "metadata": {},
     "source": [
      "Indexing with Booleans"
     ]
    },
    {
     "cell_type": "code",
     "collapsed": false,
     "input": [
      "mask=array([0,1,1,0,0,1,0,0],dtype=bool)\n",
      "mask"
     ],
     "language": "python",
     "metadata": {},
     "outputs": [
      {
       "metadata": {},
       "output_type": "pyout",
       "prompt_number": 117,
       "text": [
        "array([False,  True,  True, False, False,  True, False, False], dtype=bool)"
       ]
      }
     ],
     "prompt_number": 117
    },
    {
     "cell_type": "code",
     "collapsed": false,
     "input": [
      "mask2=a<30"
     ],
     "language": "python",
     "metadata": {},
     "outputs": [],
     "prompt_number": 118
    },
    {
     "cell_type": "code",
     "collapsed": false,
     "input": [
      "a[mask2]"
     ],
     "language": "python",
     "metadata": {},
     "outputs": [
      {
       "metadata": {},
       "output_type": "pyout",
       "prompt_number": 119,
       "text": [
        "array([ 0, 10, 20])"
       ]
      }
     ],
     "prompt_number": 119
    },
    {
     "cell_type": "code",
     "collapsed": false,
     "input": [
      "a[mask]"
     ],
     "language": "python",
     "metadata": {},
     "outputs": [
      {
       "metadata": {},
       "output_type": "pyout",
       "prompt_number": 120,
       "text": [
        "array([10, 20, 50])"
       ]
      }
     ],
     "prompt_number": 120
    },
    {
     "cell_type": "code",
     "collapsed": false,
     "input": [
      "x=np.linspace(0,2*np.pi,100)\n",
      "y=np.sin(x)\n",
      "plt.plot(x,y,'b-',x[y>0],y[y>0],'r-o')\n",
      "plt.title('powerful feature')\n",
      "plt.xlabel('x----->')\n",
      "plt.ylabel('y----->')\n",
      "plt.legend(['Sin(x)','Greater_than_zero'])"
     ],
     "language": "python",
     "metadata": {},
     "outputs": [
      {
       "metadata": {},
       "output_type": "pyout",
       "prompt_number": 122,
       "text": [
        "<matplotlib.legend.Legend at 0x10df19f90>"
       ]
      },
      {
       "metadata": {},
       "output_type": "display_data",
       "png": "[encoded data removed]",
       "text": [
        "<matplotlib.figure.Figure at 0x10de20a10>"
       ]
      }
     ],
     "prompt_number": 122
    },
    {
     "cell_type": "code",
     "collapsed": false,
     "input": [
      "a=np.arange(36)\n",
      "a.shape=6,6\n",
      "a"
     ],
     "language": "python",
     "metadata": {},
     "outputs": [
      {
       "metadata": {},
       "output_type": "pyout",
       "prompt_number": 123,
       "text": [
        "array([[ 0,  1,  2,  3,  4,  5],\n",
        "       [ 6,  7,  8,  9, 10, 11],\n",
        "       [12, 13, 14, 15, 16, 17],\n",
        "       [18, 19, 20, 21, 22, 23],\n",
        "       [24, 25, 26, 27, 28, 29],\n",
        "       [30, 31, 32, 33, 34, 35]])"
       ]
      }
     ],
     "prompt_number": 123
    },
    {
     "cell_type": "code",
     "collapsed": false,
     "input": [
      "#suppose we want the diagnol here:\n",
      "a[(0,1,2,3,4,5),(0,1,2,3,4,5)]    "
     ],
     "language": "python",
     "metadata": {},
     "outputs": [
      {
       "metadata": {},
       "output_type": "pyout",
       "prompt_number": 124,
       "text": [
        "array([ 0,  7, 14, 21, 28, 35])"
       ]
      }
     ],
     "prompt_number": 124
    },
    {
     "cell_type": "code",
     "collapsed": false,
     "input": [
      "#another shortcut is:\n",
      "print a.diagonal()\n",
      "print a.diagonal(-1)"
     ],
     "language": "python",
     "metadata": {},
     "outputs": [
      {
       "output_type": "stream",
       "stream": "stdout",
       "text": [
        "[ 0  7 14 21 28 35]\n",
        "[ 6 13 20 27 34]\n"
       ]
      }
     ],
     "prompt_number": 128
    },
    {
     "cell_type": "heading",
     "level": 5,
     "metadata": {},
     "source": [
      "Now suppose we want the indices of elements of a particular situation :"
     ]
    },
    {
     "cell_type": "code",
     "collapsed": false,
     "input": [
      "a=array([6,12,5,30])"
     ],
     "language": "python",
     "metadata": {},
     "outputs": [],
     "prompt_number": 129
    },
    {
     "cell_type": "code",
     "collapsed": false,
     "input": [
      "a>10"
     ],
     "language": "python",
     "metadata": {},
     "outputs": [
      {
       "metadata": {},
       "output_type": "pyout",
       "prompt_number": 130,
       "text": [
        "array([False,  True, False,  True], dtype=bool)"
       ]
      }
     ],
     "prompt_number": 130
    },
    {
     "cell_type": "code",
     "collapsed": false,
     "input": [
      "np.where (a>10)"
     ],
     "language": "python",
     "metadata": {},
     "outputs": [
      {
       "metadata": {},
       "output_type": "pyout",
       "prompt_number": 133,
       "text": [
        "(array([1, 3]),)"
       ]
      }
     ],
     "prompt_number": 133
    },
    {
     "cell_type": "heading",
     "level": 5,
     "metadata": {},
     "source": [
      "This is a tuple where the first element is the required array . To obtain that array of those indices : "
     ]
    },
    {
     "cell_type": "code",
     "collapsed": false,
     "input": [
      "k=np.where (a>10)\n",
      "k[0]"
     ],
     "language": "python",
     "metadata": {},
     "outputs": [
      {
       "metadata": {},
       "output_type": "pyout",
       "prompt_number": 134,
       "text": [
        "array([1, 3])"
       ]
      }
     ],
     "prompt_number": 134
    },
    {
     "cell_type": "heading",
     "level": 1,
     "metadata": {},
     "source": [
      "Pandas"
     ]
    },
    {
     "cell_type": "code",
     "collapsed": false,
     "input": [
      "from pandas import Series,DataFrame"
     ],
     "language": "python",
     "metadata": {},
     "outputs": [],
     "prompt_number": 146
    },
    {
     "cell_type": "code",
     "collapsed": false,
     "input": [
      "pd.__version__"
     ],
     "language": "python",
     "metadata": {},
     "outputs": [
      {
       "metadata": {},
       "output_type": "pyout",
       "prompt_number": 135,
       "text": [
        "'0.14.1'"
       ]
      }
     ],
     "prompt_number": 135
    },
    {
     "cell_type": "heading",
     "level": 4,
     "metadata": {},
     "source": [
      "Series"
     ]
    },
    {
     "cell_type": "code",
     "collapsed": false,
     "input": [
      "labels=['a','b','c','d','e']\n",
      "s=pd.Series(np.random.randn(5),index=labels)\n",
      "s"
     ],
     "language": "python",
     "metadata": {},
     "outputs": [
      {
       "metadata": {},
       "output_type": "pyout",
       "prompt_number": 137,
       "text": [
        "a   -1.520778\n",
        "b   -0.385898\n",
        "c    0.502738\n",
        "d    1.611629\n",
        "e   -1.359863\n",
        "dtype: float64"
       ]
      }
     ],
     "prompt_number": 137
    },
    {
     "cell_type": "code",
     "collapsed": false,
     "input": [
      "'b' in s"
     ],
     "language": "python",
     "metadata": {},
     "outputs": [
      {
       "metadata": {},
       "output_type": "pyout",
       "prompt_number": 138,
       "text": [
        "True"
       ]
      }
     ],
     "prompt_number": 138
    },
    {
     "cell_type": "code",
     "collapsed": false,
     "input": [
      "s['c']"
     ],
     "language": "python",
     "metadata": {},
     "outputs": [
      {
       "metadata": {},
       "output_type": "pyout",
       "prompt_number": 139,
       "text": [
        "0.50273792986930821"
       ]
      }
     ],
     "prompt_number": 139
    },
    {
     "cell_type": "code",
     "collapsed": false,
     "input": [
      "s.index"
     ],
     "language": "python",
     "metadata": {},
     "outputs": [
      {
       "metadata": {},
       "output_type": "pyout",
       "prompt_number": 140,
       "text": [
        "Index([u'a', u'b', u'c', u'd', u'e'], dtype='object')"
       ]
      }
     ],
     "prompt_number": 140
    },
    {
     "cell_type": "code",
     "collapsed": false,
     "input": [
      "s.values"
     ],
     "language": "python",
     "metadata": {},
     "outputs": [
      {
       "metadata": {},
       "output_type": "pyout",
       "prompt_number": 141,
       "text": [
        "array([-1.52077814, -0.38589818,  0.50273793,  1.61162912, -1.35986338])"
       ]
      }
     ],
     "prompt_number": 141
    },
    {
     "cell_type": "heading",
     "level": 5,
     "metadata": {},
     "source": [
      "Changing Series to dictionary"
     ]
    },
    {
     "cell_type": "code",
     "collapsed": false,
     "input": [
      "mapping=s.to_dict()\n",
      "mapping"
     ],
     "language": "python",
     "metadata": {},
     "outputs": [
      {
       "metadata": {},
       "output_type": "pyout",
       "prompt_number": 144,
       "text": [
        "{'a': -1.5207781374975631,\n",
        " 'b': -0.3858981757892378,\n",
        " 'c': 0.50273792986930821,\n",
        " 'd': 1.6116291189027914,\n",
        " 'e': -1.3598633750288496}"
       ]
      }
     ],
     "prompt_number": 144
    },
    {
     "cell_type": "heading",
     "level": 5,
     "metadata": {},
     "source": [
      "we can click TAB to look at the various functions after writing the module "
     ]
    },
    {
     "cell_type": "heading",
     "level": 5,
     "metadata": {},
     "source": [
      "Changing dictionary back to Series"
     ]
    },
    {
     "cell_type": "code",
     "collapsed": false,
     "input": [
      "#suppose we want to have different indices\n",
      "s_new=Series(mapping,index=['a','v','e','d','t'])\n",
      "s_new"
     ],
     "language": "python",
     "metadata": {},
     "outputs": [
      {
       "metadata": {},
       "output_type": "pyout",
       "prompt_number": 148,
       "text": [
        "a   -1.520778\n",
        "v         NaN\n",
        "e   -1.359863\n",
        "d    1.611629\n",
        "t         NaN\n",
        "dtype: float64"
       ]
      }
     ],
     "prompt_number": 148
    },
    {
     "cell_type": "code",
     "collapsed": false,
     "input": [
      "pd.isnull(s_new)\n",
      "#to find the missing values in Series"
     ],
     "language": "python",
     "metadata": {},
     "outputs": [
      {
       "metadata": {},
       "output_type": "pyout",
       "prompt_number": 151,
       "text": [
        "a    False\n",
        "v     True\n",
        "e    False\n",
        "d    False\n",
        "t     True\n",
        "dtype: bool"
       ]
      }
     ],
     "prompt_number": 151
    },
    {
     "cell_type": "code",
     "collapsed": false,
     "input": [
      "pd.notnull(s_new)\n",
      "#this is exactly opposite to the isnull function "
     ],
     "language": "python",
     "metadata": {},
     "outputs": [
      {
       "metadata": {},
       "output_type": "pyout",
       "prompt_number": 153,
       "text": [
        "a     True\n",
        "v    False\n",
        "e     True\n",
        "d     True\n",
        "t    False\n",
        "dtype: bool"
       ]
      }
     ],
     "prompt_number": 153
    },
    {
     "cell_type": "code",
     "collapsed": false,
     "input": [
      "#To drop the null values \n",
      "s_new.dropna()"
     ],
     "language": "python",
     "metadata": {},
     "outputs": [
      {
       "metadata": {},
       "output_type": "pyout",
       "prompt_number": 155,
       "text": [
        "a   -1.520778\n",
        "e   -1.359863\n",
        "d    1.611629\n",
        "dtype: float64"
       ]
      }
     ],
     "prompt_number": 155
    },
    {
     "cell_type": "heading",
     "level": 5,
     "metadata": {},
     "source": [
      "slicing could be done here similarly to a numpy array"
     ]
    },
    {
     "cell_type": "code",
     "collapsed": false,
     "input": [
      "s"
     ],
     "language": "python",
     "metadata": {},
     "outputs": [
      {
       "metadata": {},
       "output_type": "pyout",
       "prompt_number": 157,
       "text": [
        "a   -1.520778\n",
        "b   -0.385898\n",
        "c    0.502738\n",
        "d    1.611629\n",
        "e   -1.359863\n",
        "dtype: float64"
       ]
      }
     ],
     "prompt_number": 157
    },
    {
     "cell_type": "code",
     "collapsed": false,
     "input": [
      "s[:2]"
     ],
     "language": "python",
     "metadata": {},
     "outputs": [
      {
       "metadata": {},
       "output_type": "pyout",
       "prompt_number": 158,
       "text": [
        "a   -1.520778\n",
        "b   -0.385898\n",
        "dtype: float64"
       ]
      }
     ],
     "prompt_number": 158
    },
    {
     "cell_type": "heading",
     "level": 5,
     "metadata": {},
     "source": [
      "Also arithmetic operations like the numpy array"
     ]
    },
    {
     "cell_type": "code",
     "collapsed": false,
     "input": [
      "s*s"
     ],
     "language": "python",
     "metadata": {},
     "outputs": [
      {
       "metadata": {},
       "output_type": "pyout",
       "prompt_number": 159,
       "text": [
        "a    2.312766\n",
        "b    0.148917\n",
        "c    0.252745\n",
        "d    2.597348\n",
        "e    1.849228\n",
        "dtype: float64"
       ]
      }
     ],
     "prompt_number": 159
    },
    {
     "cell_type": "heading",
     "level": 4,
     "metadata": {},
     "source": [
      "DataFrame"
     ]
    },
    {
     "cell_type": "code",
     "collapsed": false,
     "input": [
      "df=DataFrame({'a':np.random.randn(6),\n",
      "             'b':['foo','bar','too']*2,\n",
      "             'c':np.random.randn(6)})\n",
      "df"
     ],
     "language": "python",
     "metadata": {},
     "outputs": [
      {
       "html": [
        "<div style=\"max-height:1000px;max-width:1500px;overflow:auto;\">\n",
        "<table border=\"1\" class=\"dataframe\">\n",
        "  <thead>\n",
        "    <tr style=\"text-align: right;\">\n",
        "      <th></th>\n",
        "      <th>a</th>\n",
        "      <th>b</th>\n",
        "      <th>c</th>\n",
        "    </tr>\n",
        "  </thead>\n",
        "  <tbody>\n",
        "    <tr>\n",
        "      <th>0</th>\n",
        "      <td>-0.653028</td>\n",
        "      <td> foo</td>\n",
        "      <td>-0.433620</td>\n",
        "    </tr>\n",
        "    <tr>\n",
        "      <th>1</th>\n",
        "      <td>-1.769063</td>\n",
        "      <td> bar</td>\n",
        "      <td>-0.015901</td>\n",
        "    </tr>\n",
        "    <tr>\n",
        "      <th>2</th>\n",
        "      <td>-1.422237</td>\n",
        "      <td> too</td>\n",
        "      <td> 0.546646</td>\n",
        "    </tr>\n",
        "    <tr>\n",
        "      <th>3</th>\n",
        "      <td>-1.342056</td>\n",
        "      <td> foo</td>\n",
        "      <td>-0.652114</td>\n",
        "    </tr>\n",
        "    <tr>\n",
        "      <th>4</th>\n",
        "      <td> 0.061098</td>\n",
        "      <td> bar</td>\n",
        "      <td> 1.603326</td>\n",
        "    </tr>\n",
        "    <tr>\n",
        "      <th>5</th>\n",
        "      <td> 0.122613</td>\n",
        "      <td> too</td>\n",
        "      <td> 0.517339</td>\n",
        "    </tr>\n",
        "  </tbody>\n",
        "</table>\n",
        "</div>"
       ],
       "metadata": {},
       "output_type": "pyout",
       "prompt_number": 161,
       "text": [
        "          a    b         c\n",
        "0 -0.653028  foo -0.433620\n",
        "1 -1.769063  bar -0.015901\n",
        "2 -1.422237  too  0.546646\n",
        "3 -1.342056  foo -0.652114\n",
        "4  0.061098  bar  1.603326\n",
        "5  0.122613  too  0.517339"
       ]
      }
     ],
     "prompt_number": 161
    },
    {
     "cell_type": "code",
     "collapsed": false,
     "input": [
      "df.index"
     ],
     "language": "python",
     "metadata": {},
     "outputs": [
      {
       "metadata": {},
       "output_type": "pyout",
       "prompt_number": 162,
       "text": [
        "Int64Index([0, 1, 2, 3, 4, 5], dtype='int64')"
       ]
      }
     ],
     "prompt_number": 162
    },
    {
     "cell_type": "code",
     "collapsed": false,
     "input": [
      "df['a']"
     ],
     "language": "python",
     "metadata": {},
     "outputs": [
      {
       "metadata": {},
       "output_type": "pyout",
       "prompt_number": 163,
       "text": [
        "0   -0.653028\n",
        "1   -1.769063\n",
        "2   -1.422237\n",
        "3   -1.342056\n",
        "4    0.061098\n",
        "5    0.122613\n",
        "Name: a, dtype: float64"
       ]
      }
     ],
     "prompt_number": 163
    },
    {
     "cell_type": "code",
     "collapsed": false,
     "input": [
      "df['d']=np.arange(6)\n",
      "df"
     ],
     "language": "python",
     "metadata": {},
     "outputs": [
      {
       "html": [
        "<div style=\"max-height:1000px;max-width:1500px;overflow:auto;\">\n",
        "<table border=\"1\" class=\"dataframe\">\n",
        "  <thead>\n",
        "    <tr style=\"text-align: right;\">\n",
        "      <th></th>\n",
        "      <th>a</th>\n",
        "      <th>b</th>\n",
        "      <th>c</th>\n",
        "      <th>d</th>\n",
        "    </tr>\n",
        "  </thead>\n",
        "  <tbody>\n",
        "    <tr>\n",
        "      <th>0</th>\n",
        "      <td>-0.653028</td>\n",
        "      <td> foo</td>\n",
        "      <td>-0.433620</td>\n",
        "      <td> 0</td>\n",
        "    </tr>\n",
        "    <tr>\n",
        "      <th>1</th>\n",
        "      <td>-1.769063</td>\n",
        "      <td> bar</td>\n",
        "      <td>-0.015901</td>\n",
        "      <td> 1</td>\n",
        "    </tr>\n",
        "    <tr>\n",
        "      <th>2</th>\n",
        "      <td>-1.422237</td>\n",
        "      <td> too</td>\n",
        "      <td> 0.546646</td>\n",
        "      <td> 2</td>\n",
        "    </tr>\n",
        "    <tr>\n",
        "      <th>3</th>\n",
        "      <td>-1.342056</td>\n",
        "      <td> foo</td>\n",
        "      <td>-0.652114</td>\n",
        "      <td> 3</td>\n",
        "    </tr>\n",
        "    <tr>\n",
        "      <th>4</th>\n",
        "      <td> 0.061098</td>\n",
        "      <td> bar</td>\n",
        "      <td> 1.603326</td>\n",
        "      <td> 4</td>\n",
        "    </tr>\n",
        "    <tr>\n",
        "      <th>5</th>\n",
        "      <td> 0.122613</td>\n",
        "      <td> too</td>\n",
        "      <td> 0.517339</td>\n",
        "      <td> 5</td>\n",
        "    </tr>\n",
        "  </tbody>\n",
        "</table>\n",
        "</div>"
       ],
       "metadata": {},
       "output_type": "pyout",
       "prompt_number": 166,
       "text": [
        "          a    b         c  d\n",
        "0 -0.653028  foo -0.433620  0\n",
        "1 -1.769063  bar -0.015901  1\n",
        "2 -1.422237  too  0.546646  2\n",
        "3 -1.342056  foo -0.652114  3\n",
        "4  0.061098  bar  1.603326  4\n",
        "5  0.122613  too  0.517339  5"
       ]
      }
     ],
     "prompt_number": 166
    },
    {
     "cell_type": "code",
     "collapsed": false,
     "input": [
      "df['d']=5\n",
      "df"
     ],
     "language": "python",
     "metadata": {},
     "outputs": [
      {
       "html": [
        "<div style=\"max-height:1000px;max-width:1500px;overflow:auto;\">\n",
        "<table border=\"1\" class=\"dataframe\">\n",
        "  <thead>\n",
        "    <tr style=\"text-align: right;\">\n",
        "      <th></th>\n",
        "      <th>a</th>\n",
        "      <th>b</th>\n",
        "      <th>c</th>\n",
        "      <th>d</th>\n",
        "    </tr>\n",
        "  </thead>\n",
        "  <tbody>\n",
        "    <tr>\n",
        "      <th>0</th>\n",
        "      <td>-0.653028</td>\n",
        "      <td> foo</td>\n",
        "      <td>-0.433620</td>\n",
        "      <td> 5</td>\n",
        "    </tr>\n",
        "    <tr>\n",
        "      <th>1</th>\n",
        "      <td>-1.769063</td>\n",
        "      <td> bar</td>\n",
        "      <td>-0.015901</td>\n",
        "      <td> 5</td>\n",
        "    </tr>\n",
        "    <tr>\n",
        "      <th>2</th>\n",
        "      <td>-1.422237</td>\n",
        "      <td> too</td>\n",
        "      <td> 0.546646</td>\n",
        "      <td> 5</td>\n",
        "    </tr>\n",
        "    <tr>\n",
        "      <th>3</th>\n",
        "      <td>-1.342056</td>\n",
        "      <td> foo</td>\n",
        "      <td>-0.652114</td>\n",
        "      <td> 5</td>\n",
        "    </tr>\n",
        "    <tr>\n",
        "      <th>4</th>\n",
        "      <td> 0.061098</td>\n",
        "      <td> bar</td>\n",
        "      <td> 1.603326</td>\n",
        "      <td> 5</td>\n",
        "    </tr>\n",
        "    <tr>\n",
        "      <th>5</th>\n",
        "      <td> 0.122613</td>\n",
        "      <td> too</td>\n",
        "      <td> 0.517339</td>\n",
        "      <td> 5</td>\n",
        "    </tr>\n",
        "  </tbody>\n",
        "</table>\n",
        "</div>"
       ],
       "metadata": {},
       "output_type": "pyout",
       "prompt_number": 168,
       "text": [
        "          a    b         c  d\n",
        "0 -0.653028  foo -0.433620  5\n",
        "1 -1.769063  bar -0.015901  5\n",
        "2 -1.422237  too  0.546646  5\n",
        "3 -1.342056  foo -0.652114  5\n",
        "4  0.061098  bar  1.603326  5\n",
        "5  0.122613  too  0.517339  5"
       ]
      }
     ],
     "prompt_number": 168
    },
    {
     "cell_type": "code",
     "collapsed": false,
     "input": [
      "#Slicing rows by indexing\n",
      "df[:3]"
     ],
     "language": "python",
     "metadata": {},
     "outputs": [
      {
       "html": [
        "<div style=\"max-height:1000px;max-width:1500px;overflow:auto;\">\n",
        "<table border=\"1\" class=\"dataframe\">\n",
        "  <thead>\n",
        "    <tr style=\"text-align: right;\">\n",
        "      <th></th>\n",
        "      <th>a</th>\n",
        "      <th>b</th>\n",
        "      <th>c</th>\n",
        "      <th>d</th>\n",
        "    </tr>\n",
        "  </thead>\n",
        "  <tbody>\n",
        "    <tr>\n",
        "      <th>0</th>\n",
        "      <td>-0.653028</td>\n",
        "      <td> foo</td>\n",
        "      <td>-0.433620</td>\n",
        "      <td> 5</td>\n",
        "    </tr>\n",
        "    <tr>\n",
        "      <th>1</th>\n",
        "      <td>-1.769063</td>\n",
        "      <td> bar</td>\n",
        "      <td>-0.015901</td>\n",
        "      <td> 5</td>\n",
        "    </tr>\n",
        "    <tr>\n",
        "      <th>2</th>\n",
        "      <td>-1.422237</td>\n",
        "      <td> too</td>\n",
        "      <td> 0.546646</td>\n",
        "      <td> 5</td>\n",
        "    </tr>\n",
        "  </tbody>\n",
        "</table>\n",
        "</div>"
       ],
       "metadata": {},
       "output_type": "pyout",
       "prompt_number": 169,
       "text": [
        "          a    b         c  d\n",
        "0 -0.653028  foo -0.433620  5\n",
        "1 -1.769063  bar -0.015901  5\n",
        "2 -1.422237  too  0.546646  5"
       ]
      }
     ],
     "prompt_number": 169
    },
    {
     "cell_type": "code",
     "collapsed": false,
     "input": [
      "df[2:4]"
     ],
     "language": "python",
     "metadata": {},
     "outputs": [
      {
       "html": [
        "<div style=\"max-height:1000px;max-width:1500px;overflow:auto;\">\n",
        "<table border=\"1\" class=\"dataframe\">\n",
        "  <thead>\n",
        "    <tr style=\"text-align: right;\">\n",
        "      <th></th>\n",
        "      <th>a</th>\n",
        "      <th>b</th>\n",
        "      <th>c</th>\n",
        "      <th>d</th>\n",
        "    </tr>\n",
        "  </thead>\n",
        "  <tbody>\n",
        "    <tr>\n",
        "      <th>2</th>\n",
        "      <td>-1.422237</td>\n",
        "      <td> too</td>\n",
        "      <td> 0.546646</td>\n",
        "      <td> 5</td>\n",
        "    </tr>\n",
        "    <tr>\n",
        "      <th>3</th>\n",
        "      <td>-1.342056</td>\n",
        "      <td> foo</td>\n",
        "      <td>-0.652114</td>\n",
        "      <td> 5</td>\n",
        "    </tr>\n",
        "  </tbody>\n",
        "</table>\n",
        "</div>"
       ],
       "metadata": {},
       "output_type": "pyout",
       "prompt_number": 171,
       "text": [
        "          a    b         c  d\n",
        "2 -1.422237  too  0.546646  5\n",
        "3 -1.342056  foo -0.652114  5"
       ]
      }
     ],
     "prompt_number": 171
    },
    {
     "cell_type": "code",
     "collapsed": false,
     "input": [
      "#Now to get a particular row:\n",
      "df.xs(0)\n",
      "#This gives us the first row "
     ],
     "language": "python",
     "metadata": {},
     "outputs": [
      {
       "metadata": {},
       "output_type": "pyout",
       "prompt_number": 173,
       "text": [
        "a   -0.6530281\n",
        "b          foo\n",
        "c   -0.4336195\n",
        "d            5\n",
        "Name: 0, dtype: object"
       ]
      }
     ],
     "prompt_number": 173
    },
    {
     "cell_type": "code",
     "collapsed": false,
     "input": [
      "#Another way to do it is \n",
      "df.ix[0]"
     ],
     "language": "python",
     "metadata": {},
     "outputs": [
      {
       "metadata": {},
       "output_type": "pyout",
       "prompt_number": 176,
       "text": [
        "a   -0.6530281\n",
        "b          foo\n",
        "c   -0.4336195\n",
        "d            5\n",
        "Name: 0, dtype: object"
       ]
      }
     ],
     "prompt_number": 176
    },
    {
     "cell_type": "code",
     "collapsed": false,
     "input": [
      "#To get a particular cell again 2 methods\n",
      "%timeit df.ix[2,'b']\n",
      "%timeit df.get_value(2,'b')"
     ],
     "language": "python",
     "metadata": {},
     "outputs": [
      {
       "output_type": "stream",
       "stream": "stdout",
       "text": [
        "100000 loops, best of 3: 5.01 \u00b5s per loop\n",
        "100000 loops, best of 3: 3.04 \u00b5s per loop"
       ]
      },
      {
       "output_type": "stream",
       "stream": "stdout",
       "text": [
        "\n"
       ]
      }
     ],
     "prompt_number": 178
    },
    {
     "cell_type": "code",
     "collapsed": false,
     "input": [
      "print df.index\n",
      "print df.columns\n",
      "print df.shape\n",
      "print df.ndim"
     ],
     "language": "python",
     "metadata": {},
     "outputs": [
      {
       "output_type": "stream",
       "stream": "stdout",
       "text": [
        "Int64Index([0, 1, 2, 3, 4, 5], dtype='int64')\n",
        "Index([u'a', u'b', u'c', u'd'], dtype='object')\n",
        "(6, 4)\n",
        "2\n"
       ]
      }
     ],
     "prompt_number": 179
    },
    {
     "cell_type": "code",
     "collapsed": false,
     "input": [
      "#We could also get a slice of every column\n",
      "df.ix[2:4,'b']"
     ],
     "language": "python",
     "metadata": {},
     "outputs": [
      {
       "metadata": {},
       "output_type": "pyout",
       "prompt_number": 180,
       "text": [
        "2    too\n",
        "3    foo\n",
        "4    bar\n",
        "Name: b, dtype: object"
       ]
      }
     ],
     "prompt_number": 180
    },
    {
     "cell_type": "code",
     "collapsed": false,
     "input": [
      "#We can put condition also\n",
      "df.ix[df['a']>0.0,['b','a']]"
     ],
     "language": "python",
     "metadata": {},
     "outputs": [
      {
       "html": [
        "<div style=\"max-height:1000px;max-width:1500px;overflow:auto;\">\n",
        "<table border=\"1\" class=\"dataframe\">\n",
        "  <thead>\n",
        "    <tr style=\"text-align: right;\">\n",
        "      <th></th>\n",
        "      <th>b</th>\n",
        "      <th>a</th>\n",
        "    </tr>\n",
        "  </thead>\n",
        "  <tbody>\n",
        "    <tr>\n",
        "      <th>4</th>\n",
        "      <td> bar</td>\n",
        "      <td> 0.061098</td>\n",
        "    </tr>\n",
        "    <tr>\n",
        "      <th>5</th>\n",
        "      <td> too</td>\n",
        "      <td> 0.122613</td>\n",
        "    </tr>\n",
        "  </tbody>\n",
        "</table>\n",
        "</div>"
       ],
       "metadata": {},
       "output_type": "pyout",
       "prompt_number": 188,
       "text": [
        "     b         a\n",
        "4  bar  0.061098\n",
        "5  too  0.122613"
       ]
      }
     ],
     "prompt_number": 188
    },
    {
     "cell_type": "code",
     "collapsed": false,
     "input": [
      "#df from a nested dicts\n",
      "nested_dict={'first':{'a':1,'b':2},'second':{'a':5,'c':4},'third':{'a':3,'b':7,'c':9}}\n",
      "nested_dict"
     ],
     "language": "python",
     "metadata": {},
     "outputs": [
      {
       "metadata": {},
       "output_type": "pyout",
       "prompt_number": 205,
       "text": [
        "{'first': {'a': 1, 'b': 2},\n",
        " 'second': {'a': 5, 'c': 4},\n",
        " 'third': {'a': 3, 'b': 7, 'c': 9}}"
       ]
      }
     ],
     "prompt_number": 205
    },
    {
     "cell_type": "code",
     "collapsed": false,
     "input": [
      "k=DataFrame(nested_dict)\n",
      "k"
     ],
     "language": "python",
     "metadata": {},
     "outputs": [
      {
       "html": [
        "<div style=\"max-height:1000px;max-width:1500px;overflow:auto;\">\n",
        "<table border=\"1\" class=\"dataframe\">\n",
        "  <thead>\n",
        "    <tr style=\"text-align: right;\">\n",
        "      <th></th>\n",
        "      <th>first</th>\n",
        "      <th>second</th>\n",
        "      <th>third</th>\n",
        "    </tr>\n",
        "  </thead>\n",
        "  <tbody>\n",
        "    <tr>\n",
        "      <th>a</th>\n",
        "      <td>  1</td>\n",
        "      <td>  5</td>\n",
        "      <td> 3</td>\n",
        "    </tr>\n",
        "    <tr>\n",
        "      <th>b</th>\n",
        "      <td>  2</td>\n",
        "      <td>NaN</td>\n",
        "      <td> 7</td>\n",
        "    </tr>\n",
        "    <tr>\n",
        "      <th>c</th>\n",
        "      <td>NaN</td>\n",
        "      <td>  4</td>\n",
        "      <td> 9</td>\n",
        "    </tr>\n",
        "  </tbody>\n",
        "</table>\n",
        "</div>"
       ],
       "metadata": {},
       "output_type": "pyout",
       "prompt_number": 207,
       "text": [
        "   first  second  third\n",
        "a      1       5      3\n",
        "b      2     NaN      7\n",
        "c    NaN       4      9"
       ]
      }
     ],
     "prompt_number": 207
    },
    {
     "cell_type": "code",
     "collapsed": false,
     "input": [
      "pd.isnull(k)"
     ],
     "language": "python",
     "metadata": {},
     "outputs": [
      {
       "html": [
        "<div style=\"max-height:1000px;max-width:1500px;overflow:auto;\">\n",
        "<table border=\"1\" class=\"dataframe\">\n",
        "  <thead>\n",
        "    <tr style=\"text-align: right;\">\n",
        "      <th></th>\n",
        "      <th>first</th>\n",
        "      <th>second</th>\n",
        "      <th>third</th>\n",
        "    </tr>\n",
        "  </thead>\n",
        "  <tbody>\n",
        "    <tr>\n",
        "      <th>a</th>\n",
        "      <td> False</td>\n",
        "      <td> False</td>\n",
        "      <td> False</td>\n",
        "    </tr>\n",
        "    <tr>\n",
        "      <th>b</th>\n",
        "      <td> False</td>\n",
        "      <td>  True</td>\n",
        "      <td> False</td>\n",
        "    </tr>\n",
        "    <tr>\n",
        "      <th>c</th>\n",
        "      <td>  True</td>\n",
        "      <td> False</td>\n",
        "      <td> False</td>\n",
        "    </tr>\n",
        "  </tbody>\n",
        "</table>\n",
        "</div>"
       ],
       "metadata": {},
       "output_type": "pyout",
       "prompt_number": 208,
       "text": [
        "   first second  third\n",
        "a  False  False  False\n",
        "b  False   True  False\n",
        "c   True  False  False"
       ]
      }
     ],
     "prompt_number": 208
    },
    {
     "cell_type": "code",
     "collapsed": false,
     "input": [
      "import os\n",
      "os.chdir('desktop/predict_sales')\n",
      "!ls"
     ],
     "language": "python",
     "metadata": {},
     "outputs": [
      {
       "output_type": "stream",
       "stream": "stdout",
       "text": [
        "ss.csv      store.csv   submit1.csv test.csv    train.csv\r\n"
       ]
      }
     ],
     "prompt_number": 209
    },
    {
     "cell_type": "code",
     "collapsed": false,
     "input": [
      "train=pd.read_csv('train.csv',parse_dates=True)"
     ],
     "language": "python",
     "metadata": {},
     "outputs": [],
     "prompt_number": 212
    },
    {
     "cell_type": "code",
     "collapsed": false,
     "input": [
      "train.head(2)"
     ],
     "language": "python",
     "metadata": {},
     "outputs": [
      {
       "html": [
        "<div style=\"max-height:1000px;max-width:1500px;overflow:auto;\">\n",
        "<table border=\"1\" class=\"dataframe\">\n",
        "  <thead>\n",
        "    <tr style=\"text-align: right;\">\n",
        "      <th></th>\n",
        "      <th>Store</th>\n",
        "      <th>DayOfWeek</th>\n",
        "      <th>Date</th>\n",
        "      <th>Sales</th>\n",
        "      <th>Customers</th>\n",
        "      <th>Open</th>\n",
        "      <th>Promo</th>\n",
        "      <th>StateHoliday</th>\n",
        "      <th>SchoolHoliday</th>\n",
        "    </tr>\n",
        "  </thead>\n",
        "  <tbody>\n",
        "    <tr>\n",
        "      <th>0</th>\n",
        "      <td> 1</td>\n",
        "      <td> 5</td>\n",
        "      <td> 2015-07-31</td>\n",
        "      <td> 5263</td>\n",
        "      <td> 555</td>\n",
        "      <td> 1</td>\n",
        "      <td> 1</td>\n",
        "      <td> 0</td>\n",
        "      <td> 1</td>\n",
        "    </tr>\n",
        "    <tr>\n",
        "      <th>1</th>\n",
        "      <td> 2</td>\n",
        "      <td> 5</td>\n",
        "      <td> 2015-07-31</td>\n",
        "      <td> 6064</td>\n",
        "      <td> 625</td>\n",
        "      <td> 1</td>\n",
        "      <td> 1</td>\n",
        "      <td> 0</td>\n",
        "      <td> 1</td>\n",
        "    </tr>\n",
        "  </tbody>\n",
        "</table>\n",
        "</div>"
       ],
       "metadata": {},
       "output_type": "pyout",
       "prompt_number": 213,
       "text": [
        "   Store  DayOfWeek        Date  Sales  Customers  Open  Promo StateHoliday  \\\n",
        "0      1          5  2015-07-31   5263        555     1      1            0   \n",
        "1      2          5  2015-07-31   6064        625     1      1            0   \n",
        "\n",
        "   SchoolHoliday  \n",
        "0              1  \n",
        "1              1  "
       ]
      }
     ],
     "prompt_number": 213
    },
    {
     "cell_type": "code",
     "collapsed": false,
     "input": [
      "train['DayOfWeek'].unique()"
     ],
     "language": "python",
     "metadata": {},
     "outputs": [
      {
       "metadata": {},
       "output_type": "pyout",
       "prompt_number": 216,
       "text": [
        "array([5, 4, 3, 2, 1, 7, 6])"
       ]
      }
     ],
     "prompt_number": 216
    },
    {
     "cell_type": "code",
     "collapsed": false,
     "input": [
      "train['DayOfWeek'].value_counts()"
     ],
     "language": "python",
     "metadata": {},
     "outputs": [
      {
       "metadata": {},
       "output_type": "pyout",
       "prompt_number": 217,
       "text": [
        "5    145845\n",
        "4    145845\n",
        "3    145665\n",
        "2    145664\n",
        "7    144730\n",
        "6    144730\n",
        "1    144730\n",
        "dtype: int64"
       ]
      }
     ],
     "prompt_number": 217
    },
    {
     "cell_type": "code",
     "collapsed": false,
     "input": [
      "train['DayOfWeek'].describe()"
     ],
     "language": "python",
     "metadata": {},
     "outputs": [
      {
       "metadata": {},
       "output_type": "pyout",
       "prompt_number": 220,
       "text": [
        "count    1017209.000000\n",
        "mean           3.998341\n",
        "std            1.997391\n",
        "min            1.000000\n",
        "25%            2.000000\n",
        "50%            4.000000\n",
        "75%            6.000000\n",
        "max            7.000000\n",
        "dtype: float64"
       ]
      }
     ],
     "prompt_number": 220
    },
    {
     "cell_type": "code",
     "collapsed": false,
     "input": [
      "train.boxplot(column='DayOfWeek')"
     ],
     "language": "python",
     "metadata": {},
     "outputs": [
      {
       "metadata": {},
       "output_type": "pyout",
       "prompt_number": 222,
       "text": [
        "{'boxes': [<matplotlib.lines.Line2D at 0x1023ea0d0>],\n",
        " 'caps': [<matplotlib.lines.Line2D at 0x10c2dd690>,\n",
        "  <matplotlib.lines.Line2D at 0x10c2ddcd0>],\n",
        " 'fliers': [<matplotlib.lines.Line2D at 0x10c2e9990>],\n",
        " 'means': [],\n",
        " 'medians': [<matplotlib.lines.Line2D at 0x10c2e9350>],\n",
        " 'whiskers': [<matplotlib.lines.Line2D at 0x10c2d1950>,\n",
        "  <matplotlib.lines.Line2D at 0x10c2dd050>]}"
       ]
      },
      {
       "metadata": {},
       "output_type": "display_data",
       "png": "[encoded data removed]",
       "text": [
        "<matplotlib.figure.Figure at 0x1023af710>"
       ]
      }
     ],
     "prompt_number": 222
    },
    {
     "cell_type": "heading",
     "level": 4,
     "metadata": {},
     "source": [
      "Adding of 2 Series "
     ]
    },
    {
     "cell_type": "code",
     "collapsed": false,
     "input": [
      "s1=Series({'a':23,'b':45,'c':5,'d':90,'e':43,'f':33})\n",
      "s2=Series({'b':44,'c':54,'e':90,'t':33,'w':2})"
     ],
     "language": "python",
     "metadata": {},
     "outputs": [],
     "prompt_number": 227
    },
    {
     "cell_type": "code",
     "collapsed": false,
     "input": [
      "s1+s2"
     ],
     "language": "python",
     "metadata": {},
     "outputs": [
      {
       "metadata": {},
       "output_type": "pyout",
       "prompt_number": 228,
       "text": [
        "a    NaN\n",
        "b     89\n",
        "c     59\n",
        "d    NaN\n",
        "e    133\n",
        "f    NaN\n",
        "t    NaN\n",
        "w    NaN\n",
        "dtype: float64"
       ]
      }
     ],
     "prompt_number": 228
    },
    {
     "cell_type": "heading",
     "level": 5,
     "metadata": {},
     "source": [
      "Clearly the sum is done only for those indices where the value is present in both the series"
     ]
    },
    {
     "cell_type": "code",
     "collapsed": false,
     "input": [
      "(s1+s2).dropna()"
     ],
     "language": "python",
     "metadata": {},
     "outputs": [
      {
       "metadata": {},
       "output_type": "pyout",
       "prompt_number": 229,
       "text": [
        "b     89\n",
        "c     59\n",
        "e    133\n",
        "dtype: float64"
       ]
      }
     ],
     "prompt_number": 229
    },
    {
     "cell_type": "heading",
     "level": 5,
     "metadata": {},
     "source": [
      "Also we can fill the other missing values as 0 "
     ]
    },
    {
     "cell_type": "code",
     "collapsed": false,
     "input": [
      "s1.add(s2,fill_value=0)"
     ],
     "language": "python",
     "metadata": {},
     "outputs": [
      {
       "metadata": {},
       "output_type": "pyout",
       "prompt_number": 231,
       "text": [
        "a     23\n",
        "b     89\n",
        "c     59\n",
        "d     90\n",
        "e    133\n",
        "f     33\n",
        "t     33\n",
        "w      2\n",
        "dtype: float64"
       ]
      }
     ],
     "prompt_number": 231
    },
    {
     "cell_type": "heading",
     "level": 1,
     "metadata": {},
     "source": [
      "CASE STUDY - FB vs APPLE"
     ]
    },
    {
     "cell_type": "code",
     "collapsed": false,
     "input": [
      "os.chdir('..')"
     ],
     "language": "python",
     "metadata": {},
     "outputs": [],
     "prompt_number": 234
    },
    {
     "cell_type": "code",
     "collapsed": false,
     "input": [
      "os.getcwd()"
     ],
     "language": "python",
     "metadata": {},
     "outputs": [
      {
       "metadata": {},
       "output_type": "pyout",
       "prompt_number": 235,
       "text": [
        "'/Users/soumiljain'"
       ]
      }
     ],
     "prompt_number": 235
    },
    {
     "cell_type": "code",
     "collapsed": false,
     "input": [
      "os.chdir('Downloads')"
     ],
     "language": "python",
     "metadata": {},
     "outputs": [],
     "prompt_number": 237
    },
    {
     "cell_type": "code",
     "collapsed": false,
     "input": [
      "fb=pd.read_csv('FB.csv',header=2,index_col='Date',parse_dates=True)\n",
      "apple=pd.read_csv('apple.csv',header=2,index_col='Date',parse_dates=True)\n",
      "apple.head(3)"
     ],
     "language": "python",
     "metadata": {},
     "outputs": [
      {
       "html": [
        "<div style=\"max-height:1000px;max-width:1500px;overflow:auto;\">\n",
        "<table border=\"1\" class=\"dataframe\">\n",
        "  <thead>\n",
        "    <tr style=\"text-align: right;\">\n",
        "      <th></th>\n",
        "      <th>Open</th>\n",
        "      <th>High</th>\n",
        "      <th>Low</th>\n",
        "      <th>Close</th>\n",
        "      <th>Volume</th>\n",
        "    </tr>\n",
        "    <tr>\n",
        "      <th>Date</th>\n",
        "      <th></th>\n",
        "      <th></th>\n",
        "      <th></th>\n",
        "      <th></th>\n",
        "      <th></th>\n",
        "    </tr>\n",
        "  </thead>\n",
        "  <tbody>\n",
        "    <tr>\n",
        "      <th>1980-12-12</th>\n",
        "      <td> 0.51</td>\n",
        "      <td> 0.52</td>\n",
        "      <td> 0.51</td>\n",
        "      <td> 0.51</td>\n",
        "      <td> 1.172585e+08</td>\n",
        "    </tr>\n",
        "    <tr>\n",
        "      <th>1980-12-15</th>\n",
        "      <td> 0.49</td>\n",
        "      <td> 0.49</td>\n",
        "      <td> 0.49</td>\n",
        "      <td> 0.49</td>\n",
        "      <td> 4.397124e+07</td>\n",
        "    </tr>\n",
        "    <tr>\n",
        "      <th>1980-12-16</th>\n",
        "      <td> 0.45</td>\n",
        "      <td> 0.45</td>\n",
        "      <td> 0.45</td>\n",
        "      <td> 0.45</td>\n",
        "      <td> 2.643203e+07</td>\n",
        "    </tr>\n",
        "  </tbody>\n",
        "</table>\n",
        "</div>"
       ],
       "metadata": {},
       "output_type": "pyout",
       "prompt_number": 276,
       "text": [
        "            Open  High   Low  Close        Volume\n",
        "Date                                             \n",
        "1980-12-12  0.51  0.52  0.51   0.51  1.172585e+08\n",
        "1980-12-15  0.49  0.49  0.49   0.49  4.397124e+07\n",
        "1980-12-16  0.45  0.45  0.45   0.45  2.643203e+07"
       ]
      }
     ],
     "prompt_number": 276
    },
    {
     "cell_type": "heading",
     "level": 5,
     "metadata": {},
     "source": [
      "We will look at the closing values for each of the above day "
     ]
    },
    {
     "cell_type": "code",
     "collapsed": false,
     "input": [
      "print apple.shape\n",
      "print fb.shape"
     ],
     "language": "python",
     "metadata": {},
     "outputs": [
      {
       "output_type": "stream",
       "stream": "stdout",
       "text": [
        "(8784, 5)\n",
        "(855, 5)\n"
       ]
      }
     ],
     "prompt_number": 277
    },
    {
     "cell_type": "heading",
     "level": 5,
     "metadata": {},
     "source": [
      "Lets keep only those days in apple for which the data is available for fb to study the correlation "
     ]
    },
    {
     "cell_type": "code",
     "collapsed": false,
     "input": [
      "apple_new=apple.ix[fb.index]\n",
      "print apple_new.shape"
     ],
     "language": "python",
     "metadata": {},
     "outputs": [
      {
       "output_type": "stream",
       "stream": "stdout",
       "text": [
        "(855, 5)\n"
       ]
      }
     ],
     "prompt_number": 282
    },
    {
     "cell_type": "code",
     "collapsed": false,
     "input": [
      "apple_new.head(2)"
     ],
     "language": "python",
     "metadata": {},
     "outputs": [
      {
       "html": [
        "<div style=\"max-height:1000px;max-width:1500px;overflow:auto;\">\n",
        "<table border=\"1\" class=\"dataframe\">\n",
        "  <thead>\n",
        "    <tr style=\"text-align: right;\">\n",
        "      <th></th>\n",
        "      <th>Open</th>\n",
        "      <th>High</th>\n",
        "      <th>Low</th>\n",
        "      <th>Close</th>\n",
        "      <th>Volume</th>\n",
        "    </tr>\n",
        "    <tr>\n",
        "      <th>Date</th>\n",
        "      <th></th>\n",
        "      <th></th>\n",
        "      <th></th>\n",
        "      <th></th>\n",
        "      <th></th>\n",
        "    </tr>\n",
        "  </thead>\n",
        "  <tbody>\n",
        "    <tr>\n",
        "      <th>2012-05-18</th>\n",
        "      <td> 76.28</td>\n",
        "      <td> 77.63</td>\n",
        "      <td> 74.60</td>\n",
        "      <td> 75.77</td>\n",
        "      <td> 1.830733e+08</td>\n",
        "    </tr>\n",
        "    <tr>\n",
        "      <th>2012-05-21</th>\n",
        "      <td> 76.36</td>\n",
        "      <td> 80.22</td>\n",
        "      <td> 76.29</td>\n",
        "      <td> 80.18</td>\n",
        "      <td> 1.577767e+08</td>\n",
        "    </tr>\n",
        "  </tbody>\n",
        "</table>\n",
        "</div>"
       ],
       "metadata": {},
       "output_type": "pyout",
       "prompt_number": 283,
       "text": [
        "             Open   High    Low  Close        Volume\n",
        "Date                                                \n",
        "2012-05-18  76.28  77.63  74.60  75.77  1.830733e+08\n",
        "2012-05-21  76.36  80.22  76.29  80.18  1.577767e+08"
       ]
      }
     ],
     "prompt_number": 283
    },
    {
     "cell_type": "code",
     "collapsed": false,
     "input": [
      "fb.head(2)"
     ],
     "language": "python",
     "metadata": {},
     "outputs": [
      {
       "html": [
        "<div style=\"max-height:1000px;max-width:1500px;overflow:auto;\">\n",
        "<table border=\"1\" class=\"dataframe\">\n",
        "  <thead>\n",
        "    <tr style=\"text-align: right;\">\n",
        "      <th></th>\n",
        "      <th>Open</th>\n",
        "      <th>High</th>\n",
        "      <th>Low</th>\n",
        "      <th>Close</th>\n",
        "      <th>Volume</th>\n",
        "    </tr>\n",
        "    <tr>\n",
        "      <th>Date</th>\n",
        "      <th></th>\n",
        "      <th></th>\n",
        "      <th></th>\n",
        "      <th></th>\n",
        "      <th></th>\n",
        "    </tr>\n",
        "  </thead>\n",
        "  <tbody>\n",
        "    <tr>\n",
        "      <th>2012-05-18</th>\n",
        "      <td> 42.05</td>\n",
        "      <td> 45.00</td>\n",
        "      <td> 38</td>\n",
        "      <td> 38.2318</td>\n",
        "      <td> 573576400</td>\n",
        "    </tr>\n",
        "    <tr>\n",
        "      <th>2012-05-21</th>\n",
        "      <td> 36.53</td>\n",
        "      <td> 36.66</td>\n",
        "      <td> 33</td>\n",
        "      <td> 34.0300</td>\n",
        "      <td> 168192700</td>\n",
        "    </tr>\n",
        "  </tbody>\n",
        "</table>\n",
        "</div>"
       ],
       "metadata": {},
       "output_type": "pyout",
       "prompt_number": 284,
       "text": [
        "             Open   High  Low    Close     Volume\n",
        "Date                                             \n",
        "2012-05-18  42.05  45.00   38  38.2318  573576400\n",
        "2012-05-21  36.53  36.66   33  34.0300  168192700"
       ]
      }
     ],
     "prompt_number": 284
    },
    {
     "cell_type": "code",
     "collapsed": false,
     "input": [
      "fb.tail(2)"
     ],
     "language": "python",
     "metadata": {},
     "outputs": [
      {
       "html": [
        "<div style=\"max-height:1000px;max-width:1500px;overflow:auto;\">\n",
        "<table border=\"1\" class=\"dataframe\">\n",
        "  <thead>\n",
        "    <tr style=\"text-align: right;\">\n",
        "      <th></th>\n",
        "      <th>Open</th>\n",
        "      <th>High</th>\n",
        "      <th>Low</th>\n",
        "      <th>Close</th>\n",
        "      <th>Volume</th>\n",
        "    </tr>\n",
        "    <tr>\n",
        "      <th>Date</th>\n",
        "      <th></th>\n",
        "      <th></th>\n",
        "      <th></th>\n",
        "      <th></th>\n",
        "      <th></th>\n",
        "    </tr>\n",
        "  </thead>\n",
        "  <tbody>\n",
        "    <tr>\n",
        "      <th>2015-10-09</th>\n",
        "      <td> 92.90</td>\n",
        "      <td> 93.74</td>\n",
        "      <td> 92.239</td>\n",
        "      <td> 93.24</td>\n",
        "      <td> 20012911</td>\n",
        "    </tr>\n",
        "    <tr>\n",
        "      <th>2015-10-12</th>\n",
        "      <td> 93.45</td>\n",
        "      <td> 94.60</td>\n",
        "      <td> 92.690</td>\n",
        "      <td> 94.23</td>\n",
        "      <td>   581128</td>\n",
        "    </tr>\n",
        "  </tbody>\n",
        "</table>\n",
        "</div>"
       ],
       "metadata": {},
       "output_type": "pyout",
       "prompt_number": 295,
       "text": [
        "             Open   High     Low  Close    Volume\n",
        "Date                                             \n",
        "2015-10-09  92.90  93.74  92.239  93.24  20012911\n",
        "2015-10-12  93.45  94.60  92.690  94.23    581128"
       ]
      }
     ],
     "prompt_number": 295
    },
    {
     "cell_type": "heading",
     "level": 5,
     "metadata": {},
     "source": [
      "Now we can compare the 2 firms with their closing stock prices"
     ]
    },
    {
     "cell_type": "code",
     "collapsed": false,
     "input": [
      "plt.plot(fb.index,fb['Close'],'r-',fb.index,apple_new['Close'],'bo')\n",
      "plt.legend(['FB','APPLE'])\n",
      "plt.title('FB vs APPLE')\n",
      "plt.xlabel('date----->')\n",
      "plt.ylabel('Closing Price----->')"
     ],
     "language": "python",
     "metadata": {},
     "outputs": [
      {
       "metadata": {},
       "output_type": "pyout",
       "prompt_number": 302,
       "text": [
        "<matplotlib.text.Text at 0x1104f3c10>"
       ]
      },
      {
       "metadata": {},
       "output_type": "display_data",
       "png": "[encoded data removed]",
       "text": [
        "<matplotlib.figure.Figure at 0x112a0fad0>"
       ]
      }
     ],
     "prompt_number": 302
    },
    {
     "cell_type": "heading",
     "level": 3,
     "metadata": {},
     "source": [
      "Alignment of Series"
     ]
    },
    {
     "cell_type": "heading",
     "level": 5,
     "metadata": {},
     "source": [
      "outer , inner left and right join "
     ]
    },
    {
     "cell_type": "code",
     "collapsed": false,
     "input": [
      "fb.shape"
     ],
     "language": "python",
     "metadata": {},
     "outputs": [
      {
       "metadata": {},
       "output_type": "pyout",
       "prompt_number": 303,
       "text": [
        "(855, 5)"
       ]
      }
     ],
     "prompt_number": 303
    },
    {
     "cell_type": "code",
     "collapsed": false,
     "input": [
      "apple.shape"
     ],
     "language": "python",
     "metadata": {},
     "outputs": [
      {
       "metadata": {},
       "output_type": "pyout",
       "prompt_number": 304,
       "text": [
        "(8784, 5)"
       ]
      }
     ],
     "prompt_number": 304
    },
    {
     "cell_type": "code",
     "collapsed": false,
     "input": [
      "s1=fb['Close']\n",
      "s2=apple['Close']"
     ],
     "language": "python",
     "metadata": {},
     "outputs": [],
     "prompt_number": 306
    },
    {
     "cell_type": "code",
     "collapsed": false,
     "input": [
      "b,c = s1.align(s2,join='inner')"
     ],
     "language": "python",
     "metadata": {},
     "outputs": [],
     "prompt_number": 309
    },
    {
     "cell_type": "code",
     "collapsed": false,
     "input": [
      "b.shape"
     ],
     "language": "python",
     "metadata": {},
     "outputs": [
      {
       "metadata": {},
       "output_type": "pyout",
       "prompt_number": 310,
       "text": [
        "(855,)"
       ]
      }
     ],
     "prompt_number": 310
    },
    {
     "cell_type": "code",
     "collapsed": false,
     "input": [
      "c.shape"
     ],
     "language": "python",
     "metadata": {},
     "outputs": [
      {
       "metadata": {},
       "output_type": "pyout",
       "prompt_number": 311,
       "text": [
        "(855,)"
       ]
      }
     ],
     "prompt_number": 311
    },
    {
     "cell_type": "code",
     "collapsed": false,
     "input": [
      "s1.head(3)"
     ],
     "language": "python",
     "metadata": {},
     "outputs": [
      {
       "metadata": {},
       "output_type": "pyout",
       "prompt_number": 312,
       "text": [
        "Date\n",
        "2012-05-18    38.2318\n",
        "2012-05-21    34.0300\n",
        "2012-05-22    31.0000\n",
        "Name: Close, dtype: float64"
       ]
      }
     ],
     "prompt_number": 312
    },
    {
     "cell_type": "code",
     "collapsed": false,
     "input": [
      "s2.head(3)"
     ],
     "language": "python",
     "metadata": {},
     "outputs": [
      {
       "metadata": {},
       "output_type": "pyout",
       "prompt_number": 313,
       "text": [
        "Date\n",
        "1980-12-12    0.51\n",
        "1980-12-15    0.49\n",
        "1980-12-16    0.45\n",
        "Name: Close, dtype: float64"
       ]
      }
     ],
     "prompt_number": 313
    },
    {
     "cell_type": "code",
     "collapsed": false,
     "input": [
      "b.head(3)"
     ],
     "language": "python",
     "metadata": {},
     "outputs": [
      {
       "metadata": {},
       "output_type": "pyout",
       "prompt_number": 314,
       "text": [
        "Date\n",
        "2012-05-18    38.2318\n",
        "2012-05-21    34.0300\n",
        "2012-05-22    31.0000\n",
        "Name: Close, dtype: float64"
       ]
      }
     ],
     "prompt_number": 314
    },
    {
     "cell_type": "code",
     "collapsed": false,
     "input": [
      "c.head(3)"
     ],
     "language": "python",
     "metadata": {},
     "outputs": [
      {
       "metadata": {},
       "output_type": "pyout",
       "prompt_number": 315,
       "text": [
        "Date\n",
        "2012-05-18    75.77\n",
        "2012-05-21    80.18\n",
        "2012-05-22    79.57\n",
        "Name: Close, dtype: float64"
       ]
      }
     ],
     "prompt_number": 315
    },
    {
     "cell_type": "heading",
     "level": 5,
     "metadata": {},
     "source": [
      "Clearly the intersection has been taken into records "
     ]
    },
    {
     "cell_type": "heading",
     "level": 5,
     "metadata": {},
     "source": [
      "Instead of outer-inner left and right could also be used "
     ]
    },
    {
     "cell_type": "code",
     "collapsed": false,
     "input": [
      "type(fb.index)"
     ],
     "language": "python",
     "metadata": {},
     "outputs": [
      {
       "metadata": {},
       "output_type": "pyout",
       "prompt_number": 317,
       "text": [
        "pandas.tseries.index.DatetimeIndex"
       ]
      }
     ],
     "prompt_number": 317
    },
    {
     "cell_type": "heading",
     "level": 5,
     "metadata": {},
     "source": [
      "Applying operations in columns "
     ]
    },
    {
     "cell_type": "code",
     "collapsed": false,
     "input": [
      "fb.mean(skipna=False)"
     ],
     "language": "python",
     "metadata": {},
     "outputs": [
      {
       "metadata": {},
       "output_type": "pyout",
       "prompt_number": 320,
       "text": [
        "Open            54.557132\n",
        "High            55.287436\n",
        "Low             53.795562\n",
        "Close           54.540094\n",
        "Volume    47940731.156725\n",
        "dtype: float64"
       ]
      }
     ],
     "prompt_number": 320
    },
    {
     "cell_type": "heading",
     "level": 5,
     "metadata": {},
     "source": [
      "Mean of each clumn is computed"
     ]
    },
    {
     "cell_type": "heading",
     "level": 5,
     "metadata": {},
     "source": [
      "Suppose we want the date when the share price was maximum for apple and lowest for apple"
     ]
    },
    {
     "cell_type": "code",
     "collapsed": false,
     "input": [
      "print 'Apple'\n",
      "print 'Date of maximum stock price:',apple.Close.idxmax(),'Value--',apple.Close.max()\n",
      "print 'Date of minimum stock price:',apple.Close.idxmin(),'Value--',apple.Close.min()\n"
     ],
     "language": "python",
     "metadata": {},
     "outputs": [
      {
       "output_type": "stream",
       "stream": "stdout",
       "text": [
        "Apple\n",
        "Date of maximum stock price: 2015-02-23 00:00:00 Value-- 133.0\n",
        "Date of minimum stock price: 1982-07-08 00:00:00 Value-- 0.2\n"
       ]
      }
     ],
     "prompt_number": 323
    },
    {
     "cell_type": "heading",
     "level": 5,
     "metadata": {},
     "source": [
      "we can also use the no functions :"
     ]
    },
    {
     "cell_type": "code",
     "collapsed": false,
     "input": [
      "plt.plot(np.arange(len(fb)),np.log(fb['Close']),'r-')"
     ],
     "language": "python",
     "metadata": {},
     "outputs": [
      {
       "metadata": {},
       "output_type": "pyout",
       "prompt_number": 325,
       "text": [
        "[<matplotlib.lines.Line2D at 0x112e59450>]"
       ]
      },
      {
       "metadata": {},
       "output_type": "display_data",
       "png": "[encoded data removed]",
       "text": [
        "<matplotlib.figure.Figure at 0x112bf2290>"
       ]
      }
     ],
     "prompt_number": 325
    },
    {
     "cell_type": "heading",
     "level": 5,
     "metadata": {},
     "source": [
      "We could also make our own functions and apply them using the apply function "
     ]
    },
    {
     "cell_type": "code",
     "collapsed": false,
     "input": [
      "def max_min(s):\n",
      "    print s.name,'--difference of max and min value=',(s.max()-s.min())\n",
      "fb.apply(max_min)"
     ],
     "language": "python",
     "metadata": {},
     "outputs": [
      {
       "output_type": "stream",
       "stream": "stdout",
       "text": [
        "Open --difference of max and min value= 80.87\n",
        "High --difference of max and min value= 80.97\n",
        "Low --difference of max and min value= 79.5927\n",
        "Close --difference of max and min value= 80.661\n",
        "Volume --difference of max and min value= 572995272.0\n"
       ]
      },
      {
       "metadata": {},
       "output_type": "pyout",
       "prompt_number": 330,
       "text": [
        "Open      None\n",
        "High      None\n",
        "Low       None\n",
        "Close     None\n",
        "Volume    None\n",
        "dtype: object"
       ]
      }
     ],
     "prompt_number": 330
    },
    {
     "cell_type": "code",
     "collapsed": false,
     "input": [
      "#Another way to plot \n",
      "fb[['Close','Open','High','Low']].plot()"
     ],
     "language": "python",
     "metadata": {},
     "outputs": [
      {
       "metadata": {},
       "output_type": "pyout",
       "prompt_number": 334,
       "text": [
        "<matplotlib.axes._subplots.AxesSubplot at 0x1124cd390>"
       ]
      },
      {
       "metadata": {},
       "output_type": "display_data",
       "png": "[encoded data removed]",
       "text": [
        "<matplotlib.figure.Figure at 0x112e67f10>"
       ]
      }
     ],
     "prompt_number": 334
    },
    {
     "cell_type": "heading",
     "level": 5,
     "metadata": {},
     "source": [
      "Other kind of plot could also be built "
     ]
    },
    {
     "cell_type": "code",
     "collapsed": false,
     "input": [
      "fb.ix[-1,['Close','Open','High','Low']].plot(kind='bar')"
     ],
     "language": "python",
     "metadata": {},
     "outputs": [
      {
       "metadata": {},
       "output_type": "pyout",
       "prompt_number": 338,
       "text": [
        "<matplotlib.axes._subplots.AxesSubplot at 0x112d11710>"
       ]
      },
      {
       "metadata": {},
       "output_type": "display_data",
       "png": "[encoded data removed]",
       "text": [
        "<matplotlib.figure.Figure at 0x112d030d0>"
       ]
      }
     ],
     "prompt_number": 338
    },
    {
     "cell_type": "heading",
     "level": 4,
     "metadata": {},
     "source": [
      "Baby Names "
     ]
    },
    {
     "cell_type": "code",
     "collapsed": false,
     "input": [
      "names=pd.read_csv('baby-names2.csv')"
     ],
     "language": "python",
     "metadata": {},
     "outputs": [],
     "prompt_number": 342
    },
    {
     "cell_type": "code",
     "collapsed": false,
     "input": [
      "names.shape"
     ],
     "language": "python",
     "metadata": {},
     "outputs": [
      {
       "metadata": {},
       "output_type": "pyout",
       "prompt_number": 343,
       "text": [
        "(258000, 5)"
       ]
      }
     ],
     "prompt_number": 343
    },
    {
     "cell_type": "code",
     "collapsed": false,
     "input": [
      "names.head(2)"
     ],
     "language": "python",
     "metadata": {},
     "outputs": [
      {
       "html": [
        "<div style=\"max-height:1000px;max-width:1500px;overflow:auto;\">\n",
        "<table border=\"1\" class=\"dataframe\">\n",
        "  <thead>\n",
        "    <tr style=\"text-align: right;\">\n",
        "      <th></th>\n",
        "      <th>year</th>\n",
        "      <th>name</th>\n",
        "      <th>prop</th>\n",
        "      <th>sex</th>\n",
        "      <th>soundex</th>\n",
        "    </tr>\n",
        "  </thead>\n",
        "  <tbody>\n",
        "    <tr>\n",
        "      <th>0</th>\n",
        "      <td> 1880</td>\n",
        "      <td>    John</td>\n",
        "      <td> 0.081541</td>\n",
        "      <td> boy</td>\n",
        "      <td> J500</td>\n",
        "    </tr>\n",
        "    <tr>\n",
        "      <th>1</th>\n",
        "      <td> 1880</td>\n",
        "      <td> William</td>\n",
        "      <td> 0.080511</td>\n",
        "      <td> boy</td>\n",
        "      <td> W450</td>\n",
        "    </tr>\n",
        "  </tbody>\n",
        "</table>\n",
        "</div>"
       ],
       "metadata": {},
       "output_type": "pyout",
       "prompt_number": 344,
       "text": [
        "   year     name      prop  sex soundex\n",
        "0  1880     John  0.081541  boy    J500\n",
        "1  1880  William  0.080511  boy    W450"
       ]
      }
     ],
     "prompt_number": 344
    },
    {
     "cell_type": "code",
     "collapsed": false,
     "input": [
      "names.sex.value_counts()"
     ],
     "language": "python",
     "metadata": {},
     "outputs": [
      {
       "metadata": {},
       "output_type": "pyout",
       "prompt_number": 345,
       "text": [
        "girl    129000\n",
        "boy     129000\n",
        "dtype: int64"
       ]
      }
     ],
     "prompt_number": 345
    },
    {
     "cell_type": "code",
     "collapsed": false,
     "input": [
      "boys=names[names.sex=='boy']\n",
      "girls=names[names.sex=='girl']"
     ],
     "language": "python",
     "metadata": {},
     "outputs": [],
     "prompt_number": 347
    },
    {
     "cell_type": "code",
     "collapsed": false,
     "input": [
      "names.groupby(['sex','year']).size()"
     ],
     "language": "python",
     "metadata": {},
     "outputs": [
      {
       "metadata": {},
       "output_type": "pyout",
       "prompt_number": 354,
       "text": [
        "sex  year\n",
        "boy  1880    1000\n",
        "     1881    1000\n",
        "     1882    1000\n",
        "     1883    1000\n",
        "     1884    1000\n",
        "     1885    1000\n",
        "     1886    1000\n",
        "     1887    1000\n",
        "     1888    1000\n",
        "     1889    1000\n",
        "     1890    1000\n",
        "     1891    1000\n",
        "     1892    1000\n",
        "     1893    1000\n",
        "     1894    1000\n",
        "...\n",
        "girl  1994    1000\n",
        "      1995    1000\n",
        "      1996    1000\n",
        "      1997    1000\n",
        "      1998    1000\n",
        "      1999    1000\n",
        "      2000    1000\n",
        "      2001    1000\n",
        "      2002    1000\n",
        "      2003    1000\n",
        "      2004    1000\n",
        "      2005    1000\n",
        "      2006    1000\n",
        "      2007    1000\n",
        "      2008    1000\n",
        "Length: 258, dtype: int64"
       ]
      }
     ],
     "prompt_number": 354
    },
    {
     "cell_type": "code",
     "collapsed": false,
     "input": [
      "type(names.groupby(['sex','year']))"
     ],
     "language": "python",
     "metadata": {},
     "outputs": [
      {
       "metadata": {},
       "output_type": "pyout",
       "prompt_number": 355,
       "text": [
        "pandas.core.groupby.DataFrameGroupBy"
       ]
      }
     ],
     "prompt_number": 355
    },
    {
     "cell_type": "code",
     "collapsed": false,
     "input": [
      "gp=names.groupby(['year','sex']).size()"
     ],
     "language": "python",
     "metadata": {},
     "outputs": [],
     "prompt_number": 381
    },
    {
     "cell_type": "heading",
     "level": 5,
     "metadata": {},
     "source": [
      "gp is like a series only with multiplt indexing "
     ]
    },
    {
     "cell_type": "code",
     "collapsed": false,
     "input": [
      "gp.ix[1880,'boy']"
     ],
     "language": "python",
     "metadata": {},
     "outputs": [
      {
       "metadata": {},
       "output_type": "pyout",
       "prompt_number": 382,
       "text": [
        "1000"
       ]
      }
     ],
     "prompt_number": 382
    },
    {
     "cell_type": "code",
     "collapsed": false,
     "input": [
      "gp[:,'boy']"
     ],
     "language": "python",
     "metadata": {},
     "outputs": [
      {
       "metadata": {},
       "output_type": "pyout",
       "prompt_number": 383,
       "text": [
        "year\n",
        "1880    1000\n",
        "1881    1000\n",
        "1882    1000\n",
        "1883    1000\n",
        "1884    1000\n",
        "1885    1000\n",
        "1886    1000\n",
        "1887    1000\n",
        "1888    1000\n",
        "1889    1000\n",
        "1890    1000\n",
        "1891    1000\n",
        "1892    1000\n",
        "1893    1000\n",
        "1894    1000\n",
        "...\n",
        "1994    1000\n",
        "1995    1000\n",
        "1996    1000\n",
        "1997    1000\n",
        "1998    1000\n",
        "1999    1000\n",
        "2000    1000\n",
        "2001    1000\n",
        "2002    1000\n",
        "2003    1000\n",
        "2004    1000\n",
        "2005    1000\n",
        "2006    1000\n",
        "2007    1000\n",
        "2008    1000\n",
        "Length: 129, dtype: int64"
       ]
      }
     ],
     "prompt_number": 383
    },
    {
     "cell_type": "code",
     "collapsed": false,
     "input": [
      "gp[1882]"
     ],
     "language": "python",
     "metadata": {},
     "outputs": [
      {
       "metadata": {},
       "output_type": "pyout",
       "prompt_number": 384,
       "text": [
        "sex\n",
        "boy     1000\n",
        "girl    1000\n",
        "dtype: int64"
       ]
      }
     ],
     "prompt_number": 384
    },
    {
     "cell_type": "heading",
     "level": 5,
     "metadata": {},
     "source": [
      "Now to get the index of the maximum value - the name which is used for maximum proportion"
     ]
    },
    {
     "cell_type": "code",
     "collapsed": false,
     "input": [
      "gp=names.groupby(['year','sex']).max()\n",
      "gp.head()"
     ],
     "language": "python",
     "metadata": {},
     "outputs": [
      {
       "html": [
        "<div style=\"max-height:1000px;max-width:1500px;overflow:auto;\">\n",
        "<table border=\"1\" class=\"dataframe\">\n",
        "  <thead>\n",
        "    <tr style=\"text-align: right;\">\n",
        "      <th></th>\n",
        "      <th></th>\n",
        "      <th>name</th>\n",
        "      <th>prop</th>\n",
        "      <th>soundex</th>\n",
        "    </tr>\n",
        "    <tr>\n",
        "      <th>year</th>\n",
        "      <th>sex</th>\n",
        "      <th></th>\n",
        "      <th></th>\n",
        "      <th></th>\n",
        "    </tr>\n",
        "  </thead>\n",
        "  <tbody>\n",
        "    <tr>\n",
        "      <th rowspan=\"2\" valign=\"top\">1880</th>\n",
        "      <th>boy</th>\n",
        "      <td> Zeke</td>\n",
        "      <td> 0.081541</td>\n",
        "      <td> Z200</td>\n",
        "    </tr>\n",
        "    <tr>\n",
        "      <th>girl</th>\n",
        "      <td> Zula</td>\n",
        "      <td> 0.072381</td>\n",
        "      <td> Z600</td>\n",
        "    </tr>\n",
        "    <tr>\n",
        "      <th rowspan=\"2\" valign=\"top\">1881</th>\n",
        "      <th>boy</th>\n",
        "      <td>  Zeb</td>\n",
        "      <td> 0.080975</td>\n",
        "      <td> Z200</td>\n",
        "    </tr>\n",
        "    <tr>\n",
        "      <th>girl</th>\n",
        "      <td> Zula</td>\n",
        "      <td> 0.069986</td>\n",
        "      <td> Z600</td>\n",
        "    </tr>\n",
        "    <tr>\n",
        "      <th>1882</th>\n",
        "      <th>boy</th>\n",
        "      <td>  Zeb</td>\n",
        "      <td> 0.078314</td>\n",
        "      <td> Z200</td>\n",
        "    </tr>\n",
        "  </tbody>\n",
        "</table>\n",
        "</div>"
       ],
       "metadata": {},
       "output_type": "pyout",
       "prompt_number": 385,
       "text": [
        "           name      prop soundex\n",
        "year sex                         \n",
        "1880 boy   Zeke  0.081541    Z200\n",
        "     girl  Zula  0.072381    Z600\n",
        "1881 boy    Zeb  0.080975    Z200\n",
        "     girl  Zula  0.069986    Z600\n",
        "1882 boy    Zeb  0.078314    Z200"
       ]
      }
     ],
     "prompt_number": 385
    },
    {
     "cell_type": "code",
     "collapsed": false,
     "input": [
      "gp['name'][gp.prop.idxmax()]"
     ],
     "language": "python",
     "metadata": {},
     "outputs": [
      {
       "metadata": {},
       "output_type": "pyout",
       "prompt_number": 387,
       "text": [
        "'Zeke'"
       ]
      }
     ],
     "prompt_number": 387
    },
    {
     "cell_type": "heading",
     "level": 5,
     "metadata": {},
     "source": [
      "Therefore Zeke is the name that has the maximum proportion in any year"
     ]
    },
    {
     "cell_type": "heading",
     "level": 5,
     "metadata": {},
     "source": [
      "Now suppose we want the max proportion name for each year :"
     ]
    },
    {
     "cell_type": "code",
     "collapsed": false,
     "input": [
      "def max_prop(name,year):\n",
      "    print year,'--BOY--',name['name'][name[(name.year==year) & (name.sex=='boy')].prop.idxmax()]\n",
      "    print year,'--GIRL--',name['name'][name[(name.year==year) & (name.sex=='girl')].prop.idxmax()]"
     ],
     "language": "python",
     "metadata": {},
     "outputs": [],
     "prompt_number": 419
    },
    {
     "cell_type": "code",
     "collapsed": false,
     "input": [
      "max_prop(names,1886)"
     ],
     "language": "python",
     "metadata": {},
     "outputs": [
      {
       "output_type": "stream",
       "stream": "stdout",
       "text": [
        "1886 --BOY-- John\n",
        "1886 --GIRL-- Mary\n"
       ]
      }
     ],
     "prompt_number": 426
    },
    {
     "cell_type": "heading",
     "level": 5,
     "metadata": {},
     "source": [
      "Lets study the highest proportion value throughout the timespan"
     ]
    },
    {
     "cell_type": "code",
     "collapsed": false,
     "input": [
      "l=[]\n",
      "for i in np.arange(names.year.min(),names.year.max(),1):\n",
      "    l.append(names['prop'][names.year==i].max())\n",
      "plt.plot(np.arange(names.year.min(),names.year.max(),1),l)"
     ],
     "language": "python",
     "metadata": {},
     "outputs": [
      {
       "metadata": {},
       "output_type": "pyout",
       "prompt_number": 429,
       "text": [
        "[<matplotlib.lines.Line2D at 0x10c582b50>]"
       ]
      },
      {
       "metadata": {},
       "output_type": "display_data",
       "png": "[encoded data removed]",
       "text": [
        "<matplotlib.figure.Figure at 0x10c2242d0>"
       ]
      }
     ],
     "prompt_number": 429
    },
    {
     "cell_type": "heading",
     "level": 5,
     "metadata": {},
     "source": [
      "Lets see popularity of name Travis over time"
     ]
    },
    {
     "cell_type": "code",
     "collapsed": false,
     "input": [
      "travis=names[names.name=='Travis']"
     ],
     "language": "python",
     "metadata": {},
     "outputs": [],
     "prompt_number": 432
    },
    {
     "cell_type": "code",
     "collapsed": false,
     "input": [
      "plt.plot(travis.year,travis.prop)"
     ],
     "language": "python",
     "metadata": {},
     "outputs": [
      {
       "metadata": {},
       "output_type": "pyout",
       "prompt_number": 434,
       "text": [
        "[<matplotlib.lines.Line2D at 0x10cbc5b50>]"
       ]
      },
      {
       "metadata": {},
       "output_type": "display_data",
       "png": "[encoded data removed]",
       "text": [
        "<matplotlib.figure.Figure at 0x10cb81810>"
       ]
      }
     ],
     "prompt_number": 434
    },
    {
     "cell_type": "heading",
     "level": 3,
     "metadata": {},
     "source": [
      "Multiple Indexed DataFrame"
     ]
    },
    {
     "cell_type": "code",
     "collapsed": false,
     "input": [
      "idf=names.set_index(['year','sex'])"
     ],
     "language": "python",
     "metadata": {},
     "outputs": [],
     "prompt_number": 435
    },
    {
     "cell_type": "code",
     "collapsed": false,
     "input": [
      "idf.shape"
     ],
     "language": "python",
     "metadata": {},
     "outputs": [
      {
       "metadata": {},
       "output_type": "pyout",
       "prompt_number": 436,
       "text": [
        "(258000, 3)"
       ]
      }
     ],
     "prompt_number": 436
    },
    {
     "cell_type": "code",
     "collapsed": false,
     "input": [
      "idf.head()"
     ],
     "language": "python",
     "metadata": {},
     "outputs": [
      {
       "html": [
        "<div style=\"max-height:1000px;max-width:1500px;overflow:auto;\">\n",
        "<table border=\"1\" class=\"dataframe\">\n",
        "  <thead>\n",
        "    <tr style=\"text-align: right;\">\n",
        "      <th></th>\n",
        "      <th></th>\n",
        "      <th>name</th>\n",
        "      <th>prop</th>\n",
        "      <th>soundex</th>\n",
        "    </tr>\n",
        "    <tr>\n",
        "      <th>year</th>\n",
        "      <th>sex</th>\n",
        "      <th></th>\n",
        "      <th></th>\n",
        "      <th></th>\n",
        "    </tr>\n",
        "  </thead>\n",
        "  <tbody>\n",
        "    <tr>\n",
        "      <th rowspan=\"5\" valign=\"top\">1880</th>\n",
        "      <th>boy</th>\n",
        "      <td>    John</td>\n",
        "      <td> 0.081541</td>\n",
        "      <td> J500</td>\n",
        "    </tr>\n",
        "    <tr>\n",
        "      <th>boy</th>\n",
        "      <td> William</td>\n",
        "      <td> 0.080511</td>\n",
        "      <td> W450</td>\n",
        "    </tr>\n",
        "    <tr>\n",
        "      <th>boy</th>\n",
        "      <td>   James</td>\n",
        "      <td> 0.050057</td>\n",
        "      <td> J520</td>\n",
        "    </tr>\n",
        "    <tr>\n",
        "      <th>boy</th>\n",
        "      <td> Charles</td>\n",
        "      <td> 0.045167</td>\n",
        "      <td> C642</td>\n",
        "    </tr>\n",
        "    <tr>\n",
        "      <th>boy</th>\n",
        "      <td>  George</td>\n",
        "      <td> 0.043292</td>\n",
        "      <td> G620</td>\n",
        "    </tr>\n",
        "  </tbody>\n",
        "</table>\n",
        "</div>"
       ],
       "metadata": {},
       "output_type": "pyout",
       "prompt_number": 437,
       "text": [
        "             name      prop soundex\n",
        "year sex                           \n",
        "1880 boy     John  0.081541    J500\n",
        "     boy  William  0.080511    W450\n",
        "     boy    James  0.050057    J520\n",
        "     boy  Charles  0.045167    C642\n",
        "     boy   George  0.043292    G620"
       ]
      }
     ],
     "prompt_number": 437
    },
    {
     "cell_type": "raw",
     "metadata": {},
     "source": [
      "Order() is used to arrange in ascending order"
     ]
    },
    {
     "cell_type": "code",
     "collapsed": false,
     "input": [
      "names.groupby('name')['prop'].max().order()"
     ],
     "language": "python",
     "metadata": {},
     "outputs": [
      {
       "metadata": {},
       "output_type": "pyout",
       "prompt_number": 440,
       "text": [
        "name\n",
        "Kennard     0.000027\n",
        "Danniel     0.000027\n",
        "Dwyane      0.000028\n",
        "Deryl       0.000028\n",
        "Grayling    0.000028\n",
        "Randolf     0.000029\n",
        "Theodis     0.000029\n",
        "Michial     0.000029\n",
        "Levern      0.000029\n",
        "Erasmo      0.000030\n",
        "Kem         0.000031\n",
        "Mikeal      0.000031\n",
        "Darryll     0.000031\n",
        "Lex         0.000031\n",
        "Kimball     0.000031\n",
        "...\n",
        "Jason       0.033595\n",
        "Barbara     0.034398\n",
        "Richard     0.035667\n",
        "Shirley     0.038973\n",
        "Jennifer    0.040294\n",
        "David       0.041253\n",
        "George      0.043292\n",
        "Charles     0.045167\n",
        "Michael     0.046564\n",
        "Linda       0.055203\n",
        "James       0.055406\n",
        "Robert      0.056598\n",
        "Mary        0.072381\n",
        "William     0.080511\n",
        "John        0.081541\n",
        "Name: prop, Length: 6782, dtype: float64"
       ]
      }
     ],
     "prompt_number": 440
    },
    {
     "cell_type": "code",
     "collapsed": false,
     "input": [
      "result  = names.groupby('name')['prop'].describe()\n",
      "result[:4]"
     ],
     "language": "python",
     "metadata": {},
     "outputs": [
      {
       "metadata": {},
       "output_type": "pyout",
       "prompt_number": 441,
       "text": [
        "name        \n",
        "Aaden  count    1.000000\n",
        "       mean     0.000442\n",
        "       std           NaN\n",
        "       min      0.000442\n",
        "dtype: float64"
       ]
      }
     ],
     "prompt_number": 441
    },
    {
     "cell_type": "heading",
     "level": 4,
     "metadata": {},
     "source": [
      "Sorting "
     ]
    },
    {
     "cell_type": "code",
     "collapsed": false,
     "input": [
      "boys08=boys[boys.year==2008].sort_index(by='prop',ascending=False)"
     ],
     "language": "python",
     "metadata": {},
     "outputs": [],
     "prompt_number": 444
    },
    {
     "cell_type": "code",
     "collapsed": false,
     "input": [
      "boys08.head()"
     ],
     "language": "python",
     "metadata": {},
     "outputs": [
      {
       "html": [
        "<div style=\"max-height:1000px;max-width:1500px;overflow:auto;\">\n",
        "<table border=\"1\" class=\"dataframe\">\n",
        "  <thead>\n",
        "    <tr style=\"text-align: right;\">\n",
        "      <th></th>\n",
        "      <th>year</th>\n",
        "      <th>name</th>\n",
        "      <th>prop</th>\n",
        "      <th>sex</th>\n",
        "      <th>soundex</th>\n",
        "    </tr>\n",
        "  </thead>\n",
        "  <tbody>\n",
        "    <tr>\n",
        "      <th>128000</th>\n",
        "      <td> 2008</td>\n",
        "      <td>   Jacob</td>\n",
        "      <td> 0.010355</td>\n",
        "      <td> boy</td>\n",
        "      <td> J210</td>\n",
        "    </tr>\n",
        "    <tr>\n",
        "      <th>128001</th>\n",
        "      <td> 2008</td>\n",
        "      <td> Michael</td>\n",
        "      <td> 0.009437</td>\n",
        "      <td> boy</td>\n",
        "      <td> M240</td>\n",
        "    </tr>\n",
        "    <tr>\n",
        "      <th>128002</th>\n",
        "      <td> 2008</td>\n",
        "      <td>   Ethan</td>\n",
        "      <td> 0.009301</td>\n",
        "      <td> boy</td>\n",
        "      <td> E350</td>\n",
        "    </tr>\n",
        "    <tr>\n",
        "      <th>128003</th>\n",
        "      <td> 2008</td>\n",
        "      <td>  Joshua</td>\n",
        "      <td> 0.008799</td>\n",
        "      <td> boy</td>\n",
        "      <td> J200</td>\n",
        "    </tr>\n",
        "    <tr>\n",
        "      <th>128004</th>\n",
        "      <td> 2008</td>\n",
        "      <td>  Daniel</td>\n",
        "      <td> 0.008702</td>\n",
        "      <td> boy</td>\n",
        "      <td> D540</td>\n",
        "    </tr>\n",
        "  </tbody>\n",
        "</table>\n",
        "</div>"
       ],
       "metadata": {},
       "output_type": "pyout",
       "prompt_number": 445,
       "text": [
        "        year     name      prop  sex soundex\n",
        "128000  2008    Jacob  0.010355  boy    J210\n",
        "128001  2008  Michael  0.009437  boy    M240\n",
        "128002  2008    Ethan  0.009301  boy    E350\n",
        "128003  2008   Joshua  0.008799  boy    J200\n",
        "128004  2008   Daniel  0.008702  boy    D540"
       ]
      }
     ],
     "prompt_number": 445
    },
    {
     "cell_type": "code",
     "collapsed": false,
     "input": [
      "plt.plot(boys08.prop.cumsum())"
     ],
     "language": "python",
     "metadata": {},
     "outputs": [
      {
       "metadata": {},
       "output_type": "pyout",
       "prompt_number": 447,
       "text": [
        "[<matplotlib.lines.Line2D at 0x10cb02310>]"
       ]
      },
      {
       "metadata": {},
       "output_type": "display_data",
       "png": "[encoded data removed]",
       "text": [
        "<matplotlib.figure.Figure at 0x12213e7d0>"
       ]
      }
     ],
     "prompt_number": 447
    },
    {
     "cell_type": "heading",
     "level": 5,
     "metadata": {},
     "source": [
      "To get the median value :"
     ]
    },
    {
     "cell_type": "code",
     "collapsed": false,
     "input": [
      "np.searchsorted(boys08.prop.cumsum(),0.5).mean()"
     ],
     "language": "python",
     "metadata": {},
     "outputs": [
      {
       "metadata": {},
       "output_type": "pyout",
       "prompt_number": 458,
       "text": [
        "127.0"
       ]
      }
     ],
     "prompt_number": 458
    },
    {
     "cell_type": "heading",
     "level": 4,
     "metadata": {},
     "source": [
      "Lets calculate the number of baby names for each year such that those cover the 50% of the population"
     ]
    },
    {
     "cell_type": "code",
     "collapsed": false,
     "input": [
      "l=[]\n",
      "for i in np.arange(1880,2008,1):\n",
      "    temp_df=names[names.year==i].sort_index(by='prop',ascending=False)\n",
      "    l.append(np.searchsorted(temp_df.prop.cumsum(),0.5).mean())\n",
      "plt.plot(np.arange(1880,2008,1),l,'r-o')\n",
      "plt.grid()\n",
      "plt.title('Names Diversity')\n",
      "plt.legend(['Names diversity'])\n",
      "plt.xlabel('year----->')\n",
      "plt.ylabel('Names Diversity----->')"
     ],
     "language": "python",
     "metadata": {},
     "outputs": [
      {
       "metadata": {},
       "output_type": "pyout",
       "prompt_number": 469,
       "text": [
        "<matplotlib.text.Text at 0x11a8ea650>"
       ]
      },
      {
       "metadata": {},
       "output_type": "display_data",
       "png": "[encoded data removed]",
       "text": [
        "<matplotlib.figure.Figure at 0x122f720d0>"
       ]
      }
     ],
     "prompt_number": 469
    },
    {
     "cell_type": "heading",
     "level": 4,
     "metadata": {},
     "source": [
      "Therefore the diversity of the names is increasing year by year"
     ]
    },
    {
     "cell_type": "code",
     "collapsed": false,
     "input": [],
     "language": "python",
     "metadata": {},
     "outputs": []
    }
   ],
   "metadata": {}
  }
 ]
}