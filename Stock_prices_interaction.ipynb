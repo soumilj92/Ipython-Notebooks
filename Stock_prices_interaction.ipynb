{
 "metadata": {
  "name": "",
  "signature": "sha256:6bd97d21928e2815e7553c4e05e50715808635dba2ebcb4a733d0dbe47e0373f"
 },
 "nbformat": 3,
 "nbformat_minor": 0,
 "worksheets": [
  {
   "cells": [
    {
     "cell_type": "markdown",
     "metadata": {},
     "source": [
      "A Simple IPYTHON interaction to compare the daily stock prices of 2 companies in different years\n",
      "Go Down to look at the Interaction"
     ]
    },
    {
     "cell_type": "code",
     "collapsed": false,
     "input": [
      "import IPython.html.widgets as widgets\n",
      "import pandas as pd\n",
      "import os\n",
      "import numpy as np\n",
      "import matplotlib.pyplot as plt\n",
      "%matplotlib inline"
     ],
     "language": "python",
     "metadata": {},
     "outputs": [],
     "prompt_number": 19
    },
    {
     "cell_type": "code",
     "collapsed": false,
     "input": [
      "os.getcwd()"
     ],
     "language": "python",
     "metadata": {},
     "outputs": [
      {
       "metadata": {},
       "output_type": "pyout",
       "prompt_number": 2,
       "text": [
        "'/Users/soumiljain'"
       ]
      }
     ],
     "prompt_number": 2
    },
    {
     "cell_type": "code",
     "collapsed": false,
     "input": [
      "os.chdir('downloads')"
     ],
     "language": "python",
     "metadata": {},
     "outputs": [],
     "prompt_number": 3
    },
    {
     "cell_type": "code",
     "collapsed": false,
     "input": [
      "fb=pd.read_csv('fb.csv',index_col='Date',header=2,parse_dates=True)\n",
      "apple=pd.read_csv('apple.csv',index_col='Date',header=2,parse_dates=True)"
     ],
     "language": "python",
     "metadata": {},
     "outputs": [],
     "prompt_number": 29
    },
    {
     "cell_type": "code",
     "collapsed": false,
     "input": [
      "fb.head(2)"
     ],
     "language": "python",
     "metadata": {},
     "outputs": [
      {
       "html": [
        "<div style=\"max-height:1000px;max-width:1500px;overflow:auto;\">\n",
        "<table border=\"1\" class=\"dataframe\">\n",
        "  <thead>\n",
        "    <tr style=\"text-align: right;\">\n",
        "      <th></th>\n",
        "      <th>Open</th>\n",
        "      <th>High</th>\n",
        "      <th>Low</th>\n",
        "      <th>Close</th>\n",
        "      <th>Volume</th>\n",
        "    </tr>\n",
        "    <tr>\n",
        "      <th>Date</th>\n",
        "      <th></th>\n",
        "      <th></th>\n",
        "      <th></th>\n",
        "      <th></th>\n",
        "      <th></th>\n",
        "    </tr>\n",
        "  </thead>\n",
        "  <tbody>\n",
        "    <tr>\n",
        "      <th>2012-05-18</th>\n",
        "      <td> 42.05</td>\n",
        "      <td> 45.00</td>\n",
        "      <td> 38</td>\n",
        "      <td> 38.2318</td>\n",
        "      <td> 573576400</td>\n",
        "    </tr>\n",
        "    <tr>\n",
        "      <th>2012-05-21</th>\n",
        "      <td> 36.53</td>\n",
        "      <td> 36.66</td>\n",
        "      <td> 33</td>\n",
        "      <td> 34.0300</td>\n",
        "      <td> 168192700</td>\n",
        "    </tr>\n",
        "  </tbody>\n",
        "</table>\n",
        "</div>"
       ],
       "metadata": {},
       "output_type": "pyout",
       "prompt_number": 13,
       "text": [
        "             Open   High  Low    Close     Volume\n",
        "Date                                             \n",
        "2012-05-18  42.05  45.00   38  38.2318  573576400\n",
        "2012-05-21  36.53  36.66   33  34.0300  168192700"
       ]
      }
     ],
     "prompt_number": 13
    },
    {
     "cell_type": "code",
     "collapsed": false,
     "input": [
      "def stock_prices(company,price_type,year):\n",
      "    if company=='FB':\n",
      "        df=fb[price_type][fb.index.year==year]\n",
      "        plt.plot(df)\n",
      "    elif company=='APPLE':\n",
      "        df=apple[price_type][apple.index.year==year]\n",
      "        plt.plot(df)\n",
      "    elif company=='BOTH':\n",
      "        df1=fb[price_type][fb.index.year==year]\n",
      "        df2=apple[price_type][apple.index.year==year]\n",
      "        plt.plot(df1,'r-',df2,'bo')\n",
      "        plt.legend(['FB','APPLE'])"
     ],
     "language": "python",
     "metadata": {},
     "outputs": [],
     "prompt_number": 44
    },
    {
     "cell_type": "code",
     "collapsed": false,
     "input": [
      "widgets.interact(stock_prices,company=(['FB','APPLE','BOTH']),price_type=(['Open','High','Low','Close']),year=(2012,2015,1))"
     ],
     "language": "python",
     "metadata": {},
     "outputs": [
      {
       "metadata": {},
       "output_type": "pyout",
       "prompt_number": 46,
       "text": [
        "<function __main__.stock_prices>"
       ]
      },
      {
       "metadata": {},
       "output_type": "display_data",
       "png": "[encoded data removed]",
       "text": [
        "<matplotlib.figure.Figure at 0x10a044190>"
       ]
      }
     ],
     "prompt_number": 46
    },
    {
     "cell_type": "code",
     "collapsed": false,
     "input": [],
     "language": "python",
     "metadata": {},
     "outputs": []
    }
   ],
   "metadata": {}
  }
 ]
}